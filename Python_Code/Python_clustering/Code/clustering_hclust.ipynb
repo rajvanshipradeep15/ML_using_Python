{
 "cells": [
  {
   "cell_type": "markdown",
   "metadata": {},
   "source": [
    "# Hierarchial Clustering\n",
    "## Kumar Rahul\n",
    "\n",
    "We will use beer data to perform hierarchial clustering using seaborn packages `clustermap`. This function derives some features from `scipy` package.\n",
    "\n",
    "Refer to http://docs.scipy.org/doc/scipy/reference/generated/scipy.cluster.hierarchy.linkage.html for refernce to available methods on hierarchial clustering.\n",
    "\n",
    "The other option to achieve hierarchial clustering is to use `AgglomerativeClustering` from `sklearn.cluster`. More about it: http://scikit-learn.org/stable/modules/generated/sklearn.cluster.AgglomerativeClustering.html#sklearn.cluster.AgglomerativeClustering"
   ]
  },
  {
   "cell_type": "code",
   "execution_count": null,
   "metadata": {
    "Rmd_chunk_options": "echo=FALSE, message=FALSE",
    "autoscroll": false
   },
   "outputs": [],
   "source": [
    "import pandas as pd\n",
    "import seaborn as sn"
   ]
  },
  {
   "cell_type": "markdown",
   "metadata": {},
   "source": [
    "\n",
    "## 1. Preparing Data\n",
    "\n",
    "Read data from a specified location\n"
   ]
  },
  {
   "cell_type": "code",
   "execution_count": null,
   "metadata": {},
   "outputs": [],
   "source": [
    "from IPython.core.interactiveshell import InteractiveShell\n",
    "InteractiveShell.ast_node_interactivity = \"all\""
   ]
  },
  {
   "cell_type": "code",
   "execution_count": null,
   "metadata": {
    "autoscroll": false
   },
   "outputs": [],
   "source": [
    "raw_df = pd.read_csv( \"../data/Hclust_Beer data.csv\", \n",
    "                        sep = ',', na_values = ['', ' '])\n",
    "\n",
    "raw_df.columns = raw_df.columns.str.lower().str.replace(' ', '_')\n",
    "raw_df.head()"
   ]
  },
  {
   "cell_type": "markdown",
   "metadata": {},
   "source": [
    "\n",
    "## 2. Extract Features and Standardize\n",
    "\n",
    "Two ways to extract the features:\n",
    "\n",
    "> * use `pd.filter` and pass the list of features to extract for scaling\n",
    "* Use `pd.drop` and pass the list of features which need not be extracted\n",
    "\n",
    "The feature can also be extracted by using `dataframeName[[<name of features>]]` \n"
   ]
  },
  {
   "cell_type": "code",
   "execution_count": null,
   "metadata": {
    "autoscroll": false
   },
   "outputs": [],
   "source": [
    "#feature_df = raw_df[['cal', 'sod', 'alc', 'cost']]\n",
    "\n",
    "feature_df = raw_df.drop({'id','beer'}, axis =1)\n",
    "col_names = feature_df.columns\n",
    "#col_names\n",
    "\n",
    "row_index = raw_df.iloc[:,1]\n",
    "#row_index"
   ]
  },
  {
   "cell_type": "code",
   "execution_count": null,
   "metadata": {
    "autoscroll": false
   },
   "outputs": [],
   "source": [
    "from sklearn.preprocessing import StandardScaler\n",
    "scaler = StandardScaler()\n",
    "\n",
    "feature_scaled_df = pd.DataFrame(scaler.fit_transform( feature_df ))\n",
    "\n",
    "feature_scaled_df.columns = col_names\n",
    "feature_scaled_df.index = row_index "
   ]
  },
  {
   "cell_type": "markdown",
   "metadata": {
    "autoscroll": false,
    "collapsed": true
   },
   "source": [
    "Use `rename` function, in case renaming of a specific column or index is required"
   ]
  },
  {
   "cell_type": "code",
   "execution_count": null,
   "metadata": {
    "autoscroll": false
   },
   "outputs": [],
   "source": [
    "#feature_scaled_df.rename(index={'Budweiser':'Bud'}, inplace=True)"
   ]
  },
  {
   "cell_type": "markdown",
   "metadata": {},
   "source": [
    "The referening of a row or column can be changed by using the below code chunk. Uncomment and change the values within `iloc` to understand how referencing works:"
   ]
  },
  {
   "cell_type": "code",
   "execution_count": null,
   "metadata": {},
   "outputs": [],
   "source": [
    "#ref_row_col = raw_df.iloc[:,:]\n",
    "#ref_row_col"
   ]
  },
  {
   "cell_type": "code",
   "execution_count": null,
   "metadata": {
    "autoscroll": false
   },
   "outputs": [],
   "source": [
    "feature_scaled_df"
   ]
  },
  {
   "cell_type": "markdown",
   "metadata": {},
   "source": [
    "\n",
    "## 3. Cluster and Visualize\n",
    "\n",
    "Refer to http://docs.scipy.org/doc/scipy/reference/generated/scipy.cluster.hierarchy.linkage.html for refernce to available methods, metric.\n",
    "\n",
    "Rather than standardizing the values above We could have set `z_score` parameter inside the `clustermap` to 1 for standardizing the column values.\n",
    "\n",
    "The other option to achieve hierarchial clustering is to use `AgglomerativeClustering` from `sklearn.cluster`. More about it: \n",
    "http://scikit-learn.org/stable/modules/generated/sklearn.cluster.AgglomerativeClustering.html#sklearn.cluster.AgglomerativeClustering"
   ]
  },
  {
   "cell_type": "code",
   "execution_count": null,
   "metadata": {
    "autoscroll": false
   },
   "outputs": [],
   "source": [
    "sn.clustermap(feature_scaled_df, method = 'complete', metric = 'euclidean', \n",
    "              row_cluster=True,col_cluster = False,\n",
    "              linewidths=.5,figsize =(15,15))"
   ]
  },
  {
   "cell_type": "markdown",
   "metadata": {},
   "source": [
    "### Exercise: \n",
    "\n",
    "Use AgglomerativeClustering from sklearn.cluster to build Hierarchial Clustering using the beer data."
   ]
  }
 ],
 "metadata": {
  "Rmd_header": {
   "author": "Kumar Rahul",
   "date": "6/9/2017",
   "output": "word_document",
   "title": "Hierarchical Clustering"
  },
  "kernelspec": {
   "display_name": "Python 3",
   "language": "python",
   "name": "python3"
  },
  "language_info": {
   "codemirror_mode": {
    "name": "ipython",
    "version": 3
   },
   "file_extension": ".py",
   "mimetype": "text/x-python",
   "name": "python",
   "nbconvert_exporter": "python",
   "pygments_lexer": "ipython3",
   "version": "3.8.3"
  }
 },
 "nbformat": 4,
 "nbformat_minor": 1
}
