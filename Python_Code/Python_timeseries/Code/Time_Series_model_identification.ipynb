{
 "cells": [
  {
   "cell_type": "markdown",
   "metadata": {},
   "source": [
    "# Time Series Forecast - Additive or Multiplicative Model\n",
    "\n",
    "### Kumar Rahul\n",
    "\n",
    "Forecasting the demand of services or products leads to better management of short term or long term planning. In this case, we are looking at the warranty related issues reported, on a particular brand of two-wheeler. The data is a monthly roll-up of approximately half a million issues reported by the customers over a four year period. \n",
    "We will be using Claim forecasting data in this exercise. Refer the **Exhibit 1** to understand the feature list. Use the data and answer the below questions.\n",
    "\n",
    "1.\tLoad the time series dataset in Jupyter Notebook using pandas.\n",
    "2.\tPlot the time series data to visualize trend and seasonality in the data.\n",
    "3.\tDecompose the claim data to report Trend, Seasonality, and irregular component. Find the Seasonality window using the claim data.\n",
    "\n",
    "**Exhibit 1**\n",
    "\n",
    "|Sl. No.|Name of Variable|Variable Description|\n",
    "|----------|------------|---------------|\n",
    "|1\t|date\t|Date of Claim|\n",
    "|2\t|rate\t|Amount claimed|\n",
    "|3\t|item\t|Number of claims|\n",
    "\n"
   ]
  },
  {
   "cell_type": "code",
   "execution_count": null,
   "metadata": {},
   "outputs": [],
   "source": [
    "# load and clean-up data\n",
    "from numpy import nan\n",
    "from numpy import isnan\n",
    "from pandas import to_numeric\n",
    "\n",
    "\n",
    "import pandas as pd\n",
    "import numpy as np\n",
    "import warnings\n",
    "from math import sqrt\n",
    "from numpy import split\n",
    "from numpy import array\n",
    "from sklearn.metrics import mean_squared_error\n",
    "from matplotlib import pyplot\n",
    "#import matplotlib.pylab as plt\n",
    "\n",
    "import statsmodels.tsa.holtwinters as hw\n",
    "from statsmodels.tsa.holtwinters import ExponentialSmoothing, SimpleExpSmoothing, Holt\n",
    "import statsmodels.api as sm"
   ]
  },
  {
   "cell_type": "code",
   "execution_count": null,
   "metadata": {
    "scrolled": true
   },
   "outputs": [],
   "source": [
    "monthly_raw_df = pd.read_csv('./data/data_monthly.csv', sep=',', header=0, infer_datetime_format=True, \n",
    "                             index_col=['date'], \n",
    "                             parse_dates= ['date'],dayfirst=True)"
   ]
  },
  {
   "cell_type": "code",
   "execution_count": null,
   "metadata": {},
   "outputs": [],
   "source": [
    "monthly_raw_df.sort_index(inplace=True)\n",
    "monthly_raw_df.info()"
   ]
  },
  {
   "cell_type": "markdown",
   "metadata": {},
   "source": [
    "The data for the first day and last day of CGM monitoring being trucated as it has not been captured for the full cycle."
   ]
  },
  {
   "cell_type": "code",
   "execution_count": null,
   "metadata": {},
   "outputs": [],
   "source": [
    "monthly_filter_df = monthly_raw_df.filter(['rate'], axis =1)\n",
    "monthly_filter_df['rate'] = monthly_filter_df['rate'].map(lambda x:str(x).replace(',', '')).astype(float)"
   ]
  },
  {
   "cell_type": "code",
   "execution_count": null,
   "metadata": {},
   "outputs": [],
   "source": [
    "monthly_filter_df = monthly_filter_df[(monthly_filter_df.index >='2014-03-01') & \n",
    "                                      (monthly_filter_df.index <= '2017-05-31')]\n",
    "\n",
    "monthly_filter_df.info()"
   ]
  },
  {
   "cell_type": "markdown",
   "metadata": {},
   "source": [
    "## Problem Framing\n",
    "\n",
    "\n",
    "We will use the data to explore a very specific question; that is:\n",
    "\n",
    "**Given recent claim, what is the expected claim for the next time period?**\n",
    "\n",
    "Plot of the original data is shown below:"
   ]
  },
  {
   "cell_type": "code",
   "execution_count": null,
   "metadata": {
    "scrolled": false
   },
   "outputs": [],
   "source": [
    "pyplot.figure(figsize = (18, 5))\n",
    "pyplot.plot(monthly_filter_df, 'b-')\n",
    "pyplot.title('Monthly amount claimed over a 3 year period')"
   ]
  },
  {
   "cell_type": "markdown",
   "metadata": {},
   "source": [
    "## Addititive or Multiplicative model\n",
    "\n",
    "Given the data how to know if the additivie model will apply or a multiplicative model will apply?\n",
    "\n",
    "> ### Additive Model\n",
    "Y_Predicted = **trend** + **seasonal** + **resid**\n",
    "\n",
    "\n",
    "> ### Multiplicative Model\n",
    "Y_Predicted = **trend** * **seasonal** * **resid**\n",
    "\n",
    "\n",
    "To know this first of all we have to decompose the data into trend, seasonal and noise component.  We can do this using `seasonal_decompose` method from `statsmodels.api.tsa` but we will create it manually for understanding."
   ]
  },
  {
   "cell_type": "markdown",
   "metadata": {},
   "source": [
    "## Manual Method - Trend, Seasonality and Residual\n",
    "\n",
    "### Trend Component\n",
    "\n",
    "* **Trends**: The consistent (long term) upward or downward movement of peaks in the data. First the visual inspection of the monthly claim. Data seems to show spikes going up with time. In a way, suggesting that the average claim has gone up with time.\n",
    "\n",
    "One of the ways to identify trends is to identify the seasonality window.\n",
    "\n",
    "* **Seasonality window**: The idea of finding seasonality window is to find a window size `s`, for which if the rolling average is calculated for each time point(-s/2<p<s/2), the zigzag motion in the time series data smoothens out. The rolling average in the window `s` tries to smooth out noise and seasonality and what is observed is a pure trend."
   ]
  },
  {
   "cell_type": "markdown",
   "metadata": {},
   "source": [
    "The below function is being used for identifying the trend by computing the seasonality window."
   ]
  },
  {
   "cell_type": "code",
   "execution_count": null,
   "metadata": {},
   "outputs": [],
   "source": [
    "def plot_rolling_stats(data, roll):\n",
    "    #Determing rolling statistics\n",
    "    rolmean = data.rolling(window=roll, center = True).mean()\n",
    "    rolstd = data.rolling(window=roll, center = True).std()\n",
    "\n",
    "    #Plot rolling statistics:\n",
    "    pyplot.figure(figsize = (18, 5))\n",
    "    orig = pyplot.plot(data, color='blue',label='Original')\n",
    "    mean = pyplot.plot(rolmean, color='red', label='Rolling Mean')\n",
    "    std = pyplot.plot(rolstd, color='black', label = 'Rolling Std')\n",
    "    pyplot.legend(loc='best')\n",
    "    pyplot.title('Rolling Mean & Standard Deviation')\n",
    "    #pyplot.show(block=False)"
   ]
  },
  {
   "cell_type": "code",
   "execution_count": null,
   "metadata": {
    "scrolled": true
   },
   "outputs": [],
   "source": [
    "decompose_df = monthly_filter_df.copy()\n",
    "plot_rolling_stats(decompose_df,12)"
   ]
  },
  {
   "cell_type": "code",
   "execution_count": null,
   "metadata": {},
   "outputs": [],
   "source": [
    "decompose_df['trend'] = decompose_df.rolling(window=12, center = True).mean()\n",
    "decompose_df = decompose_df.dropna()\n",
    "decompose_df.head()"
   ]
  },
  {
   "cell_type": "markdown",
   "metadata": {},
   "source": [
    "### Seasonal Component\n",
    "\n",
    "* **Seasonality**: Seasonality, measured in terms of seasonality index, is fluctuations from the trend that occurs within a defined time period (seasons, quarters, months, days of the week, time interval within a day etc.).\n",
    "\n",
    "    > * Substracting trend from the original data will lead to looking at the seasonal component alone. \n",
    "         1. If it is additive model then detrended data = original data - trend. \n",
    "         2. If it is a multiplicative model, then  detrended data = original data/trend.\n",
    "\n",
    "\n",
    "PS: While using the pre-defiend function, detrended data is extraploated to fill for the missing value (due to smoothning using seasonality index) at the top and bottom using least sqaured extrapolation. \n",
    "         \n",
    "Since we do not know if we should built the time series model using additive or multiplicative approach, let us detrend the data using both the techniques."
   ]
  },
  {
   "cell_type": "code",
   "execution_count": null,
   "metadata": {},
   "outputs": [],
   "source": [
    "decompose_df['detrend_a'] =  decompose_df['rate'] - decompose_df['trend']\n",
    "decompose_df['detrend_m'] =  decompose_df['rate']/decompose_df['trend']\n",
    "decompose_df.head()"
   ]
  },
  {
   "cell_type": "markdown",
   "metadata": {},
   "source": [
    "Adding the month column to decompose_df. This will be used in merge operation later on."
   ]
  },
  {
   "cell_type": "code",
   "execution_count": null,
   "metadata": {},
   "outputs": [],
   "source": [
    "decompose_df['month'] = pd.DatetimeIndex(decompose_df.index).month\n",
    "decompose_df.head()"
   ]
  },
  {
   "cell_type": "markdown",
   "metadata": {},
   "source": [
    "### Seasonality...cont.\n",
    "\n",
    ">        4. We will calclate period average now. Period average is the mean of the detrended data at a defined frequency (seasonality window). Frequency is an integer value that gives the number of periods per cycle (ex. 12 for monthly). NaNs are ignored in the mean. \n",
    "         5. If additive model, seasonality index  = period average - (mean of period average)\n",
    "         6. If multiplcative model, seasonality index = period average/(mean of period average)\n",
    "         7. seasonal component is obtained by filling/tiling the seasonality index across all timeperiods."
   ]
  },
  {
   "cell_type": "markdown",
   "metadata": {},
   "source": [
    "#### Additive Seasonal Component"
   ]
  },
  {
   "cell_type": "code",
   "execution_count": null,
   "metadata": {},
   "outputs": [],
   "source": [
    "period_average_additive = decompose_df.groupby(decompose_df.index.month)['detrend_a'].mean()\n",
    "overall_avg_additive = period_average_additive.mean()"
   ]
  },
  {
   "cell_type": "code",
   "execution_count": null,
   "metadata": {},
   "outputs": [],
   "source": [
    "seasonal_component = pd.DataFrame(period_average_additive-overall_avg_additive)\n",
    "#print(seasonal_component)\n",
    "\n",
    "seasonal_component['month'] = (seasonal_component.index)\n",
    "seasonal_component.head()"
   ]
  },
  {
   "cell_type": "code",
   "execution_count": null,
   "metadata": {},
   "outputs": [],
   "source": [
    "seasonal_component.rename(index = str, columns={'detrend_a': 'seasonality_a'},inplace=True)\n",
    "seasonal_component.head()"
   ]
  },
  {
   "cell_type": "markdown",
   "metadata": {},
   "source": [
    "#### Multiplicative Seasonal Component"
   ]
  },
  {
   "cell_type": "code",
   "execution_count": null,
   "metadata": {},
   "outputs": [],
   "source": [
    "period_average_mult = decompose_df.groupby(decompose_df.index.month)['detrend_m'].mean()\n",
    "period_average_mult"
   ]
  },
  {
   "cell_type": "code",
   "execution_count": null,
   "metadata": {},
   "outputs": [],
   "source": [
    "overall_avg_mult = period_average_mult.mean()"
   ]
  },
  {
   "cell_type": "code",
   "execution_count": null,
   "metadata": {},
   "outputs": [],
   "source": [
    "seasonal_component['seasonality_m'] = (period_average_mult/overall_avg_mult).values\n",
    "#print(seasonal_component)\n",
    "\n",
    "\n",
    "seasonal_component.head()"
   ]
  },
  {
   "cell_type": "code",
   "execution_count": null,
   "metadata": {},
   "outputs": [],
   "source": [
    "merge_df=pd.merge(decompose_df,seasonal_component, on = 'month',how='left')\n",
    "#merge.shape\n",
    "merge_df.index = decompose_df.index\n",
    "merge_df.head()"
   ]
  },
  {
   "cell_type": "markdown",
   "metadata": {},
   "source": [
    "### Residual\n",
    "\n",
    ">        8. If additive model,  resid = original data - seasonal - trend\n",
    "         9. If multiplicative model,  resid = x / seasonal / trend\n",
    "\n",
    "         Source: https://github.com/statsmodels/statsmodels/blob/master/statsmodels/tsa/seasonal.py\n"
   ]
  },
  {
   "cell_type": "code",
   "execution_count": null,
   "metadata": {},
   "outputs": [],
   "source": [
    "merge_df['residual_a'] = merge_df['rate'] - merge_df['detrend_a'] - merge_df['seasonality_a']\n",
    "merge_df['residual_m'] = merge_df['rate']/ merge_df['detrend_m']/ merge_df['seasonality_m']\n",
    "\n",
    "merge_df.head()"
   ]
  },
  {
   "cell_type": "markdown",
   "metadata": {},
   "source": [
    "### Check the additive model"
   ]
  },
  {
   "cell_type": "code",
   "execution_count": null,
   "metadata": {},
   "outputs": [],
   "source": [
    "merge_df['check_a'] = merge_df['detrend_a'] + merge_df['seasonality_a'] + merge_df['residual_a']\n",
    "\n",
    "merge_df.head()"
   ]
  },
  {
   "cell_type": "code",
   "execution_count": null,
   "metadata": {},
   "outputs": [],
   "source": [
    "decomposition = sm.tsa.seasonal_decompose(monthly_filter_df, model='additive') #,freq = decomfreq)"
   ]
  },
  {
   "cell_type": "code",
   "execution_count": null,
   "metadata": {},
   "outputs": [],
   "source": [
    "decomposition.seasonal.head(10)"
   ]
  },
  {
   "cell_type": "markdown",
   "metadata": {},
   "source": [
    "### Check the multiplicative model"
   ]
  },
  {
   "cell_type": "code",
   "execution_count": null,
   "metadata": {},
   "outputs": [],
   "source": [
    "merge_df['check_m'] = merge_df['detrend_m'] * merge_df['seasonality_m'] * merge_df['residual_m']\n",
    "\n",
    "merge_df.head()"
   ]
  },
  {
   "cell_type": "markdown",
   "metadata": {},
   "source": [
    "### Select Model\n",
    "\n",
    "We’re going to check how much correlation between data points is still encoded within the residuals. This can be done using Auto-Correlation Factor (ACF). We can use `acf` method from `statsmodels.tsa.stattools` for the calculation.\n",
    "\n",
    "\n",
    "As some of the correlations could be negative we will select the type with the smallest sum of squares of correlation values."
   ]
  },
  {
   "cell_type": "code",
   "execution_count": null,
   "metadata": {},
   "outputs": [],
   "source": [
    "import statsmodels.tsa.stattools as sts"
   ]
  },
  {
   "cell_type": "code",
   "execution_count": null,
   "metadata": {},
   "outputs": [],
   "source": [
    "def ssacf(x):\n",
    "    return np.square(np.sum(sts.acf(x)))"
   ]
  },
  {
   "cell_type": "code",
   "execution_count": null,
   "metadata": {},
   "outputs": [],
   "source": [
    "def com_ssacf(add,mult):\n",
    "    if ssacf(add) <= ssacf(mult):\n",
    "        model_type = 'additive'\n",
    "    else:\n",
    "        model_type = 'multiplicative'\n",
    "    return model_type    "
   ]
  },
  {
   "cell_type": "code",
   "execution_count": null,
   "metadata": {},
   "outputs": [],
   "source": [
    "com_ssacf(merge_df.residual_a,merge_df.residual_m)"
   ]
  },
  {
   "cell_type": "markdown",
   "metadata": {},
   "source": [
    "### Exercise - Use seasonal_decompose method\n",
    "\n",
    "Decompose into trend, seasonal and residual component using `seasonal_decompose` method and implement the steps carried out in above section (named Manual Method).\n",
    "\n",
    "> 1. What difference do you observe in the `merge_df` created in above section and the one created by using `seasonal_decompose` method?\n",
    "2. Which method will you choose to build the time series model; additive or multiplicative?\n",
    "\n",
    "Sample step is given for you to head start your exercise."
   ]
  },
  {
   "cell_type": "code",
   "execution_count": null,
   "metadata": {},
   "outputs": [],
   "source": [
    "decomposition = sm.tsa.seasonal_decompose(monthly_filter_df, model='additive') #,freq = decomfreq)\n",
    "\n",
    "dplot = decomposition.plot()\n",
    "dplot.set_figwidth(20)\n",
    "dplot.set_figheight(10)\n",
    "dplot.suptitle('Decomposition of time series - monthly claim data')\n",
    "pyplot.show()"
   ]
  },
  {
   "cell_type": "code",
   "execution_count": null,
   "metadata": {},
   "outputs": [],
   "source": []
  }
 ],
 "metadata": {
  "kernelspec": {
   "display_name": "Python 3",
   "language": "python",
   "name": "python3"
  },
  "language_info": {
   "codemirror_mode": {
    "name": "ipython",
    "version": 3
   },
   "file_extension": ".py",
   "mimetype": "text/x-python",
   "name": "python",
   "nbconvert_exporter": "python",
   "pygments_lexer": "ipython3",
   "version": "3.6.8"
  }
 },
 "nbformat": 4,
 "nbformat_minor": 2
}
