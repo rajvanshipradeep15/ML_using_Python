{
 "cells": [
  {
   "cell_type": "markdown",
   "metadata": {},
   "source": [
    "<p style=\"font-family: Arial Bold; font-size:3.0em;color:Green; font-style:bold\"><br>\n",
    "Satellite Image Data <br></p>\n",
    "\n",
    "\n",
    "<p style=\"font-family: Arial; font-size:2.0em;color:Green; font-style:bold\"><br>\n",
    "Analysis using Numpy <br></p>\n",
    "\n",
    "\n",
    "<p style=\"font-family: Arial; font-size:1.75em;color:Green; font-style:bold\"><br>Data Source: Pulsar space  - california fires</p>\n",
    "\n",
    "\n",
    "Southern California suffers a wave of devastating fires that have burned an area of more than 65,000 hectares and forced thousands to evacuate. The drought in the area has made this a particularly tragic year in in terms of large-scale fires.\n",
    "\n",
    "Fires have been captured by different satellites. In the following images, captured by ESA satellites and processed by pulsar Space, we can see an image of the area at north of Ventura (California) where fires are actives. The real color image allows us to intuit the magnitude of the fires because the enormous clouds of smoke. However, it is the second image where we can see the magnitude of the fires because a composed image (we will use this image), where we get through the smoke and clouds and see the active fires.\n",
    "\n",
    "We will analyze a sample satellite image data. This example has been taken from http://www.pulsarspace.com/en/news/view/california-fires for demonstration/teaching purpose only. Instead of using misc from scipy, we will use imageio.imread to read the image data.\n",
    "\n",
    "More on how to read a satellite image data: https://earthobservatory.nasa.gov/features/ColorImage/page2.php\n",
    "\n",
    "About mixing colors: http://www.webexhibits.org/causesofcolor/1BA.html"
   ]
  },
  {
   "cell_type": "code",
   "execution_count": null,
   "metadata": {},
   "outputs": [],
   "source": [
    "%matplotlib inline\n",
    "import numpy as np\n",
    "import scipy as sc\n",
    "from scipy import misc\n",
    "import imageio\n",
    "\n",
    "import matplotlib.pyplot as plt"
   ]
  },
  {
   "cell_type": "markdown",
   "metadata": {
    "collapsed": true
   },
   "source": [
    "<p style=\"font-family: Arial; font-size:1.75em;color:Green; font-style:bold\">\n",
    "Creating a numpy array from an image file:</p> \n",
    "\n",
    "<br>\n",
    "Lets choose a data satellite image file and display its type.\n"
   ]
  },
  {
   "cell_type": "code",
   "execution_count": null,
   "metadata": {},
   "outputs": [],
   "source": [
    "image_data = imageio.imread('./data/cf_fire.jpg')\n",
    "#image_data = misc.imread('./data/cf_fire.jpg')\n",
    "type(image_data)"
   ]
  },
  {
   "cell_type": "markdown",
   "metadata": {},
   "source": [
    "Let's see what the image looks like"
   ]
  },
  {
   "cell_type": "code",
   "execution_count": null,
   "metadata": {},
   "outputs": [],
   "source": [
    "plt.figure(figsize=(15,15))\n",
    "plt.imshow(image_data)"
   ]
  },
  {
   "cell_type": "markdown",
   "metadata": {},
   "source": [
    "As the image is an RGB image, the array has 3 dimensions. The 3 dimensions applies to red, green and blue colour bands:"
   ]
  },
  {
   "cell_type": "code",
   "execution_count": null,
   "metadata": {},
   "outputs": [],
   "source": [
    "image_data.shape"
   ]
  },
  {
   "cell_type": "markdown",
   "metadata": {},
   "source": [
    "Print of the image data will give the pixel values at each row and column"
   ]
  },
  {
   "cell_type": "code",
   "execution_count": null,
   "metadata": {},
   "outputs": [],
   "source": [
    "image_data[0,0]"
   ]
  },
  {
   "cell_type": "code",
   "execution_count": null,
   "metadata": {},
   "outputs": [],
   "source": [
    "print(image_data)"
   ]
  },
  {
   "cell_type": "markdown",
   "metadata": {},
   "source": [
    "The shape of the array shows that it is a three layered matrix.  The first two numbers represents the length and width of the image, and the third number (i.e. 3) is for three layers: Red, Green and Blue.\n",
    "\n",
    "<p style=\"font-family: Arial; font-size:1.75em;color:Green; font-style:bold\">\n",
    "RGB Color Mapping in the Photo:</p>\n",
    "\n",
    "\n",
    "> * <p style=\"font-family: Arial; font-size:1.5em;color:red; font-style:bold\">\n",
    "RED pixel indicates Altitude</p>\n",
    "       \n",
    "> * <p style=\"font-family: Arial; font-size:1.5em;color:green; font-style:bold\">\n",
    "GREEN pixel indicates Slope\n",
    "</p>\n",
    "\n",
    "> * <p style=\"font-family: Arial; font-size:1.5em;color:blue; font-style:bold\">\n",
    "BLUE pixel indicates Aspect\n",
    "</p>\n",
    "\n",
    "The higher values denote higher altitude, aspect and slope."
   ]
  },
  {
   "cell_type": "code",
   "execution_count": null,
   "metadata": {},
   "outputs": [],
   "source": [
    "image_data.size"
   ]
  },
  {
   "cell_type": "code",
   "execution_count": null,
   "metadata": {},
   "outputs": [],
   "source": [
    "image_data.min(), image_data.max()"
   ]
  },
  {
   "cell_type": "markdown",
   "metadata": {},
   "source": [
    "<p style=\"font-family: Arial; font-size:1.75em;color:Green; font-style:bold\"><br>\n",
    "Pixel on the 100th Row and 200th Column</p>"
   ]
  },
  {
   "cell_type": "code",
   "execution_count": null,
   "metadata": {},
   "outputs": [],
   "source": [
    "image_data[100, 200]"
   ]
  },
  {
   "cell_type": "markdown",
   "metadata": {},
   "source": [
    "It seems to have higher blue intensity. We can access one of the colors, say, the green shade by:"
   ]
  },
  {
   "cell_type": "code",
   "execution_count": null,
   "metadata": {},
   "outputs": [],
   "source": [
    "image_data[100, 200, 1]"
   ]
  },
  {
   "cell_type": "markdown",
   "metadata": {},
   "source": [
    "<p style=\"font-family: Arial; font-size:1.75em;color:Green; font-style:bold\"><br>\n",
    "Set a Pixel to All Zeros</p>\n",
    "<br/>\n",
    "We can set all three layer in a pixel at once by assigning zero globally to that (row,column) pairing. We will not be able to see any noticable change in the image as we are chaging just one pixel value."
   ]
  },
  {
   "cell_type": "code",
   "execution_count": null,
   "metadata": {},
   "outputs": [],
   "source": [
    "image_data = imageio.imread('./data/cf_fire.jpg')\n",
    "image_data[100, 200] = 0\n",
    "plt.figure(figsize=(15,15))\n",
    "plt.imshow(image_data)"
   ]
  },
  {
   "cell_type": "markdown",
   "metadata": {},
   "source": [
    "<p style=\"font-family: Arial; font-size:1.75em;color:Green; font-style:bold\"><br>\n",
    "Changing colors in a Range<p/>\n",
    "<br/>\n",
    "We can also use a range to change the pixel values. As an example, let's set the green layer for rows 200 to 800 to full intensity."
   ]
  },
  {
   "cell_type": "code",
   "execution_count": null,
   "metadata": {},
   "outputs": [],
   "source": [
    "image_data = imageio.imread('./data/cf_fire.jpg')\n",
    "\n",
    "image_data[200:800, : ,1] = 255\n",
    "plt.figure(figsize=(15,15))\n",
    "plt.imshow(image_data)"
   ]
  },
  {
   "cell_type": "markdown",
   "metadata": {},
   "source": [
    "Let's set all the colors to full intensity in the column range 200 to 800."
   ]
  },
  {
   "cell_type": "code",
   "execution_count": null,
   "metadata": {},
   "outputs": [],
   "source": [
    "image_data = imageio.imread('./data/cf_fire.jpg')\n",
    "\n",
    "image_data[:,200:800, :] = 255\n",
    "plt.figure(figsize=(15,15))\n",
    "plt.imshow(image_data)"
   ]
  },
  {
   "cell_type": "markdown",
   "metadata": {},
   "source": [
    "Let's set all the colors to low intensity in the row range 200 to 800."
   ]
  },
  {
   "cell_type": "code",
   "execution_count": null,
   "metadata": {},
   "outputs": [],
   "source": [
    "image_data = imageio.imread('./data/cf_fire.jpg')\n",
    "\n",
    "image_data[200:800,:,:] = 0\n",
    "plt.figure(figsize=(15,15))\n",
    "plt.imshow(image_data)"
   ]
  },
  {
   "cell_type": "markdown",
   "metadata": {},
   "source": [
    "<p style=\"font-family: Arial; font-size:1.75em;color:Green; font-style:bold\"><br>\n",
    "Pick all Pixels with Low Values</p>"
   ]
  },
  {
   "cell_type": "code",
   "execution_count": null,
   "metadata": {},
   "outputs": [],
   "source": [
    "image_data = imageio.imread('./data/cf_fire.jpg')\n",
    "print(\"Shape of image_data:\", image_data.shape)\n",
    "low_value_filter = image_data < 200\n",
    "print(\"Shape of low_value_filter:\", low_value_filter.shape)"
   ]
  },
  {
   "cell_type": "markdown",
   "metadata": {},
   "source": [
    "<p style=\"font-family: Arial; font-size:1.75em;color:Green; font-style:bold\">\n",
    "Filtering Out Low Values</p><br/>\n",
    "\n",
    "The original image is:"
   ]
  },
  {
   "cell_type": "code",
   "execution_count": null,
   "metadata": {},
   "outputs": [],
   "source": [
    "plt.figure(figsize=(15,15))\n",
    "plt.imshow(image_data)"
   ]
  },
  {
   "cell_type": "markdown",
   "metadata": {},
   "source": [
    "low_value_filter=0 will set the pixel values to zero where ever low_value_filter is True."
   ]
  },
  {
   "cell_type": "code",
   "execution_count": null,
   "metadata": {},
   "outputs": [],
   "source": [
    "image_data[low_value_filter] = 0\n",
    "plt.figure(figsize=(15,15))\n",
    "plt.imshow(image_data)"
   ]
  },
  {
   "cell_type": "markdown",
   "metadata": {},
   "source": [
    "<p style=\"font-family: Arial; font-size:1.75em;color:Green; font-style:bold\">\n",
    "More Row and Column Operations</p><br>\n",
    "\n",
    "You can design complex patters by making cols a function of rows or vice-versa. Here we try a linear relationship between rows and columns."
   ]
  },
  {
   "cell_type": "code",
   "execution_count": null,
   "metadata": {},
   "outputs": [],
   "source": [
    "rows_range = np.arange(image_data.shape[0])\n",
    "cols_range = rows_range"
   ]
  },
  {
   "cell_type": "code",
   "execution_count": null,
   "metadata": {},
   "outputs": [],
   "source": [
    "cols_range"
   ]
  },
  {
   "cell_type": "code",
   "execution_count": null,
   "metadata": {},
   "outputs": [],
   "source": [
    "rows_range"
   ]
  },
  {
   "cell_type": "code",
   "execution_count": null,
   "metadata": {},
   "outputs": [],
   "source": [
    "image_data = imageio.imread('./data/cf_fire.jpg')\n",
    "image_data[rows_range, cols_range] = 255"
   ]
  },
  {
   "cell_type": "code",
   "execution_count": null,
   "metadata": {},
   "outputs": [],
   "source": [
    "plt.figure(figsize=(15,15))\n",
    "plt.imshow(image_data)"
   ]
  },
  {
   "cell_type": "markdown",
   "metadata": {},
   "source": [
    "<p style=\"font-family: Arial; font-size:1.75em;color:Green; font-style:bold\"><br>\n",
    "Masking Images</p>\n",
    "<br>\n",
    "\n",
    "Create a mask that is in shape of a circular disc and use it to mask the portion. np.ogrid (open gridd) helps in creating an index of rows and columns which can be used to manipulate specific pixels in the image."
   ]
  },
  {
   "cell_type": "code",
   "execution_count": null,
   "metadata": {},
   "outputs": [],
   "source": [
    "total_rows, total_cols, total_layers = image_data.shape\n",
    "print(\"image_data = \", image_data.shape, \"\\ntotal_rows= \", total_rows, \n",
    "      \"\\ntotal_cols= \", total_cols,\"\\ntotal_layers= \", total_layers)\n",
    "\n",
    "X, Y = np.ogrid[0:total_rows, 0:total_cols]\n",
    "print(\"\\n\\nX = \", X.shape, \" and \\nY = \", Y.shape)"
   ]
  },
  {
   "cell_type": "code",
   "execution_count": null,
   "metadata": {},
   "outputs": [],
   "source": [
    "center_row, center_col = total_rows / 2, total_cols / 2\n",
    "print(\"center_row = \", center_row, \"and center_col = \", center_col)"
   ]
  },
  {
   "cell_type": "code",
   "execution_count": null,
   "metadata": {
    "scrolled": true
   },
   "outputs": [],
   "source": [
    "print(\"X - center_row is \",X - center_row, \"and \\nY - center_col is \",Y - center_col)"
   ]
  },
  {
   "cell_type": "code",
   "execution_count": null,
   "metadata": {},
   "outputs": [],
   "source": [
    "dist_from_center = (X - center_row)**2 + (Y - center_col)**2\n",
    "radius = (total_rows / 2)**2\n",
    "circular_mask = (dist_from_center > radius)\n",
    "print(circular_mask)"
   ]
  },
  {
   "cell_type": "code",
   "execution_count": null,
   "metadata": {},
   "outputs": [],
   "source": [
    "image_data = imageio.imread('./data/cf_fire.jpg')\n",
    "image_data[circular_mask] = 255\n",
    "plt.figure(figsize=(15,15))\n",
    "plt.imshow(image_data)"
   ]
  },
  {
   "cell_type": "markdown",
   "metadata": {},
   "source": [
    "<p style=\"font-family: Arial; font-size:1.75em;color:Green; font-style:bold\">\n",
    "Masking upper half</p>\n",
    "<br/>\n",
    "\n",
    "We will mask to get half disc."
   ]
  },
  {
   "cell_type": "code",
   "execution_count": null,
   "metadata": {},
   "outputs": [],
   "source": [
    "X, Y = np.ogrid[:total_rows, :total_cols]\n",
    "upper_half = X < center_row #generates mask for all rows above the center\n",
    "upper_half_mask = np.logical_and(upper_half, circular_mask)"
   ]
  },
  {
   "cell_type": "code",
   "execution_count": null,
   "metadata": {},
   "outputs": [],
   "source": [
    "image_data = imageio.imread('./data/cf_fire.jpg')\n",
    "image_data[upper_half_mask] = 255\n",
    "plt.figure(figsize=(15,15))\n",
    "plt.imshow(image_data)"
   ]
  },
  {
   "cell_type": "markdown",
   "metadata": {},
   "source": [
    "### Exercise: Show the upper semi circle only"
   ]
  },
  {
   "cell_type": "markdown",
   "metadata": {
    "collapsed": true
   },
   "source": [
    "<p style=\"font-family: Arial; font-size:2.75em;color:Green; font-style:bold\"><br>\n",
    "Further Processing of Satellite Image </p>\n",
    "\n",
    "<p style=\"font-family: Arial; font-size:1.75em;color:Green; font-style:bold\">\n",
    "Processing of RED Pixels</p>\n",
    "\n",
    "Remember that red pixels tell us about the height. Let us try to highlight all the high altitude areas. We will do this by detecting high intensity RED Pixels and muting down other areas."
   ]
  },
  {
   "cell_type": "code",
   "execution_count": null,
   "metadata": {},
   "outputs": [],
   "source": [
    "image_data = imageio.imread('./data/cf_fire.jpg')\n",
    "red_mask   = image_data[:, : ,0] < 200\n",
    "\n",
    "image_data[red_mask] = 0\n",
    "plt.figure(figsize=(15,15))\n",
    "plt.imshow(image_data)"
   ]
  },
  {
   "cell_type": "markdown",
   "metadata": {},
   "source": [
    "<p style=\"font-family: Arial; font-size:1.75em;color:Green; font-style:bold\"><br>\n",
    "Detecting Highl-GREEN Pixels</p>"
   ]
  },
  {
   "cell_type": "code",
   "execution_count": null,
   "metadata": {},
   "outputs": [],
   "source": [
    "image_data = imageio.imread('./data/cf_fire.jpg')\n",
    "green_mask = image_data[:, : ,1] < 100\n",
    "\n",
    "image_data[green_mask] = 0\n",
    "plt.figure(figsize=(15,15))\n",
    "plt.imshow(image_data)"
   ]
  },
  {
   "cell_type": "markdown",
   "metadata": {},
   "source": [
    "<p style=\"font-family: Arial; font-size:1.75em;color:Green; font-style:bold\"><br>\n",
    "Detecting Highly-BLUE Pixels</p>"
   ]
  },
  {
   "cell_type": "code",
   "execution_count": null,
   "metadata": {},
   "outputs": [],
   "source": [
    "image_data = imageio.imread('./data/cf_fire.jpg')\n",
    "blue_mask  = image_data[:, : ,2] < 150\n",
    "\n",
    "image_data[blue_mask] = 0\n",
    "plt.figure(figsize=(15,15))\n",
    "plt.imshow(image_data)"
   ]
  },
  {
   "cell_type": "markdown",
   "metadata": {},
   "source": [
    "<p style=\"font-family: Arial; font-size:1.75em;color:Green; font-style:bold\"><br>\n",
    "\n",
    "Composite mask that takes thresholds on all three layers: RED, GREEN, BLUE</p>"
   ]
  },
  {
   "cell_type": "code",
   "execution_count": null,
   "metadata": {},
   "outputs": [],
   "source": [
    "image_data = imageio.imread('./data/cf_fire.jpg')\n",
    "\n",
    "red_mask   = image_data[:, : ,0] < 150\n",
    "green_mask = image_data[:, : ,1] > 100\n",
    "blue_mask  = image_data[:, : ,2] < 100\n",
    "\n",
    "final_mask = np.logical_and(red_mask, green_mask, blue_mask)\n",
    "image_data[final_mask] = 0\n",
    "plt.figure(figsize=(15,15))\n",
    "plt.imshow(image_data)"
   ]
  },
  {
   "cell_type": "markdown",
   "metadata": {},
   "source": [
    "End of Document\n",
    "***"
   ]
  }
 ],
 "metadata": {
  "kernelspec": {
   "display_name": "Python 3",
   "language": "python",
   "name": "python3"
  },
  "language_info": {
   "codemirror_mode": {
    "name": "ipython",
    "version": 3
   },
   "file_extension": ".py",
   "mimetype": "text/x-python",
   "name": "python",
   "nbconvert_exporter": "python",
   "pygments_lexer": "ipython3",
   "version": "3.8.3"
  }
 },
 "nbformat": 4,
 "nbformat_minor": 2
}
