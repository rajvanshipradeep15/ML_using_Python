{
 "cells": [
  {
   "cell_type": "markdown",
   "metadata": {},
   "source": [
    "<p style=\"font-family: Arial; font-size:2.75em;color:purple; font-style:bold\"><br>\n",
    "Logistic Regression using Python (sklearn):</p><br>\n",
    "<p style=\"font-family: Arial; font-size:2.25em;color:green; font-style:bold\"><br>\n",
    "Kumar Rahul</p><br>\n",
    "\n",
    "### We will be using HR data in this exercise. Refer the Exhibit 1 to understand the feature list. Use the HR data and answer the below questions.\n",
    "\n",
    "1.\tLoad the dataset in Jupyter Notebook using pandas\n",
    "2.\tBuild a correlation matrix between all the numeric features in the dataset. Report the features, which are correlated at a cut-off of 0.70. What actions will you take on the features, which are highly correlated?\n",
    "3.\tBuild a new feature named LOB_Hike_Offered using LOB and percentage hike offered. Include this as a part of the data frame created in step 1. What assumption are you trying to test with such variables?\n",
    "4.\tCreate a new data frame with the numeric features and categorical features as dummy variable coded features. Which features will you include for model building and why?\n",
    "5.\tSplit the data into training set and test set. Use 80% of data for model training and 20% for model testing. \n",
    "6.\tBuild a model using Gender and Age as independent variable and Status as dependent variable.\n",
    "    >* Are Gender and Age a significant feature in this model?\n",
    "    * What inferences can be drawn from this model? \n",
    "7.\tBuild a model with statsmodel.api to predict the probability of Not Joining. How do you interpret the model outcome? Report the model performance on the test set.\n",
    "8.\tBuild a model with statsmodel.formula.api to predict the probability of Not Joining and report the model performance on the test set. What difference do you observe in the model built here and the one built in step 7.\n",
    "9.\tBuild a model using sklearn package to predict the probability of Not Joining. What difference do you observe in this model compared to model built in step 7 and 8.\n",
    "10.\tFine-tune the cut-off value using cost of misclassification as a strategy. The cut-off should help classify maximum number of Not Joining cases correctly.\n",
    "11.\tFine-tune the cut-off value using youdens index as a strategy. The cut-off should help balance the classification of Joined and Not Joined cases.\n",
    "12.\tApply the cut-off values obtained in step 10 and step 11 on the test set. What inference can be deduced from it?\n",
    "13. Build model using gradient descent to get an intuition about the inner working of optimization algorithms.\n",
    "14. Build model using gradient descent with regularization to get an intution about the inner working of optimization algorithms.\n",
    "\n",
    "**PS: Not all the questions are being answered as a part of the same notebook. You are encouraged to answer the questions if you find them missing.**\n",
    "\n",
    "**Exhibit 1**\n",
    "\n",
    "\n",
    "|Sl.No.|Name of Variable|Variable Description|\n",
    "|:-------|----------------|:--------------------|\n",
    "|1\t|Candidate reference number|\tUnique number to identify the candidate|\n",
    "|2\t|DOJ extended|Binary variable identifying whether candidate asked for date of joining extension (Yes/No)|\n",
    "|3\t|Duration to accept the offer|\tNumber of days taken by the candidate to accept the offer (continuous variable)|\n",
    "|4\t|Notice period|\tNotice period to be served in the parting company before candidate can join this company (continuous variable)|\n",
    "|5\t|Offered band|\tBand offered to the candidate based on experience and performance in interview rounds (categorical variable labelled C0/C1/C2/C3/C4/C5/C6)|\n",
    "|6\t|Percentage hike (CTC) expected|\tPercentage hike expected by the candidate (continuous variable)|\n",
    "|7\t|Percentage hike offered (CTC)| Percentage hike offered by the company (continuous variable)|\n",
    "|8\t|Percent difference CTC|\tPercentage difference between offered and expected CTC (continuous variable)|\n",
    "|9\t|Joining bonus|\tBinary variable indicating if joining bonus was given or not (Yes/No)|\n",
    "|10\t|Gender|\tGender of the candidate (Male/Female)|\n",
    "|11\t|Candidate source|\tSource from which resume of the candidate was obtained (categorical variables with categories  Employee referral/Agency/Direct)|\n",
    "|12\t|REX (in years)|\tRelevant years of experience of the candidate for the position offered (continuous variable)|\n",
    "|13\t|LOB|\tLine of business for which offer was rolled out (categorical variable)|\n",
    "|14\t|DOB|\tDate of birth of the candidate|\n",
    "|15\t|Joining location|\tCompany location for which offer was rolled out for candidate to join (categorical variable)|\n",
    "|16\t|Candidate relocation status|\tBinary variable indicating whether candidate has to relocate from one city to another city for joining (Yes/No)|\n",
    "|17 |HR status|\tFinal joining status of candidate (Joined/Not-Joined)|\n",
    "\n",
    "***\n",
    "\n",
    "# Code starts here\n",
    "\n",
    "To know the environment with the pyhton kernal\n",
    "\n"
   ]
  },
  {
   "cell_type": "code",
   "execution_count": 1,
   "metadata": {},
   "outputs": [
    {
     "data": {
      "text/plain": [
       "'/Users/Rahul/anaconda3/bin/python'"
      ]
     },
     "execution_count": 1,
     "metadata": {},
     "output_type": "execute_result"
    }
   ],
   "source": [
    "import sys, os\n",
    "\n",
    "sys.executable"
   ]
  },
  {
   "cell_type": "markdown",
   "metadata": {},
   "source": [
    "Supress the warnings"
   ]
  },
  {
   "cell_type": "code",
   "execution_count": 2,
   "metadata": {},
   "outputs": [],
   "source": [
    "import warnings\n",
    "warnings.filterwarnings(\"ignore\")"
   ]
  },
  {
   "cell_type": "markdown",
   "metadata": {},
   "source": [
    "We are going to use below mentioned libraries for **data import, processing and visulization**. As we progress, we will use other specific libraries for model building and evaluation. "
   ]
  },
  {
   "cell_type": "code",
   "execution_count": 3,
   "metadata": {
    "Rmd_chunk_options": "libraries, echo=TRUE, message=FALSE, warning=FALSE",
    "autoscroll": false
   },
   "outputs": [],
   "source": [
    "import pandas as pd \n",
    "import numpy as np\n",
    "import seaborn as sn # visualization library based on matplotlib\n",
    "import matplotlib.pylab as plt\n",
    "\n",
    "#the output of plotting commands is displayed inline within Jupyter notebook\n",
    "%matplotlib inline "
   ]
  },
  {
   "cell_type": "markdown",
   "metadata": {},
   "source": [
    "\n",
    "## Data Import and Manipulation\n",
    "\n",
    "### 1. Importing a data set\n",
    "\n",
    "_Give the correct path to the data_\n",
    "\n"
   ]
  },
  {
   "cell_type": "markdown",
   "metadata": {},
   "source": [
    "modify the ast_note_interactivity kernel option to see the value of multiple statements at once."
   ]
  },
  {
   "cell_type": "code",
   "execution_count": 4,
   "metadata": {},
   "outputs": [
    {
     "data": {
      "text/plain": [
       "'/Users/Rahul/Documents/Rahul Office/IIMB/Work @ IIMB/Training Material/Concepts/Python/ML_using_Python/Python_Code/Python_logistic/HR_case'"
      ]
     },
     "execution_count": 4,
     "metadata": {},
     "output_type": "execute_result"
    }
   ],
   "source": [
    "import os\n",
    "\n",
    "os.getcwd()\n",
    "\n",
    "#os.chdir()"
   ]
  },
  {
   "cell_type": "code",
   "execution_count": 5,
   "metadata": {},
   "outputs": [],
   "source": [
    "from IPython.core.interactiveshell import InteractiveShell\n",
    "InteractiveShell.ast_node_interactivity = \"all\""
   ]
  },
  {
   "cell_type": "code",
   "execution_count": 6,
   "metadata": {
    "Rmd_chunk_options": "readData, echo=TRUE,tidy=TRUE",
    "autoscroll": false,
    "scrolled": true
   },
   "outputs": [
    {
     "data": {
      "text/html": [
       "<div>\n",
       "<style scoped>\n",
       "    .dataframe tbody tr th:only-of-type {\n",
       "        vertical-align: middle;\n",
       "    }\n",
       "\n",
       "    .dataframe tbody tr th {\n",
       "        vertical-align: top;\n",
       "    }\n",
       "\n",
       "    .dataframe thead th {\n",
       "        text-align: right;\n",
       "    }\n",
       "</style>\n",
       "<table border=\"1\" class=\"dataframe\">\n",
       "  <thead>\n",
       "    <tr style=\"text-align: right;\">\n",
       "      <th></th>\n",
       "      <th>slno</th>\n",
       "      <th>candidate_ref</th>\n",
       "      <th>doj_extended</th>\n",
       "      <th>duration_to_accept_offer</th>\n",
       "      <th>notice_period</th>\n",
       "      <th>offered_band</th>\n",
       "      <th>pecent_hike_expected_in_ctc</th>\n",
       "      <th>percent_hike_offered_in_ctc</th>\n",
       "      <th>percent_difference_ctc</th>\n",
       "      <th>joining_bonus</th>\n",
       "      <th>candidate_relocate_actual</th>\n",
       "      <th>gender</th>\n",
       "      <th>candidate_source</th>\n",
       "      <th>rex_in_yrs</th>\n",
       "      <th>lob</th>\n",
       "      <th>location</th>\n",
       "      <th>age</th>\n",
       "      <th>status</th>\n",
       "    </tr>\n",
       "  </thead>\n",
       "  <tbody>\n",
       "    <tr>\n",
       "      <th>0</th>\n",
       "      <td>1</td>\n",
       "      <td>2110407</td>\n",
       "      <td>Yes</td>\n",
       "      <td>14</td>\n",
       "      <td>30</td>\n",
       "      <td>E2</td>\n",
       "      <td>-20.79</td>\n",
       "      <td>13.16</td>\n",
       "      <td>42.86</td>\n",
       "      <td>No</td>\n",
       "      <td>No</td>\n",
       "      <td>Female</td>\n",
       "      <td>Agency</td>\n",
       "      <td>7</td>\n",
       "      <td>ERS</td>\n",
       "      <td>Noida</td>\n",
       "      <td>34</td>\n",
       "      <td>Joined</td>\n",
       "    </tr>\n",
       "    <tr>\n",
       "      <th>1</th>\n",
       "      <td>2</td>\n",
       "      <td>2112635</td>\n",
       "      <td>No</td>\n",
       "      <td>18</td>\n",
       "      <td>30</td>\n",
       "      <td>E2</td>\n",
       "      <td>50.00</td>\n",
       "      <td>320.00</td>\n",
       "      <td>180.00</td>\n",
       "      <td>No</td>\n",
       "      <td>No</td>\n",
       "      <td>Male</td>\n",
       "      <td>Employee Referral</td>\n",
       "      <td>8</td>\n",
       "      <td>INFRA</td>\n",
       "      <td>Chennai</td>\n",
       "      <td>34</td>\n",
       "      <td>Joined</td>\n",
       "    </tr>\n",
       "    <tr>\n",
       "      <th>2</th>\n",
       "      <td>3</td>\n",
       "      <td>2112838</td>\n",
       "      <td>No</td>\n",
       "      <td>3</td>\n",
       "      <td>45</td>\n",
       "      <td>E2</td>\n",
       "      <td>42.84</td>\n",
       "      <td>42.84</td>\n",
       "      <td>0.00</td>\n",
       "      <td>No</td>\n",
       "      <td>No</td>\n",
       "      <td>Male</td>\n",
       "      <td>Agency</td>\n",
       "      <td>4</td>\n",
       "      <td>INFRA</td>\n",
       "      <td>Noida</td>\n",
       "      <td>27</td>\n",
       "      <td>Joined</td>\n",
       "    </tr>\n",
       "    <tr>\n",
       "      <th>3</th>\n",
       "      <td>4</td>\n",
       "      <td>2115021</td>\n",
       "      <td>No</td>\n",
       "      <td>26</td>\n",
       "      <td>30</td>\n",
       "      <td>E2</td>\n",
       "      <td>42.84</td>\n",
       "      <td>42.84</td>\n",
       "      <td>0.00</td>\n",
       "      <td>No</td>\n",
       "      <td>No</td>\n",
       "      <td>Male</td>\n",
       "      <td>Employee Referral</td>\n",
       "      <td>4</td>\n",
       "      <td>INFRA</td>\n",
       "      <td>Noida</td>\n",
       "      <td>34</td>\n",
       "      <td>Joined</td>\n",
       "    </tr>\n",
       "    <tr>\n",
       "      <th>4</th>\n",
       "      <td>5</td>\n",
       "      <td>2115125</td>\n",
       "      <td>Yes</td>\n",
       "      <td>1</td>\n",
       "      <td>120</td>\n",
       "      <td>E2</td>\n",
       "      <td>42.59</td>\n",
       "      <td>42.59</td>\n",
       "      <td>0.00</td>\n",
       "      <td>No</td>\n",
       "      <td>Yes</td>\n",
       "      <td>Male</td>\n",
       "      <td>Employee Referral</td>\n",
       "      <td>6</td>\n",
       "      <td>INFRA</td>\n",
       "      <td>Noida</td>\n",
       "      <td>34</td>\n",
       "      <td>Joined</td>\n",
       "    </tr>\n",
       "  </tbody>\n",
       "</table>\n",
       "</div>"
      ],
      "text/plain": [
       "   slno  candidate_ref doj_extended  duration_to_accept_offer  notice_period  \\\n",
       "0     1        2110407          Yes                        14             30   \n",
       "1     2        2112635           No                        18             30   \n",
       "2     3        2112838           No                         3             45   \n",
       "3     4        2115021           No                        26             30   \n",
       "4     5        2115125          Yes                         1            120   \n",
       "\n",
       "  offered_band  pecent_hike_expected_in_ctc  percent_hike_offered_in_ctc  \\\n",
       "0           E2                       -20.79                        13.16   \n",
       "1           E2                        50.00                       320.00   \n",
       "2           E2                        42.84                        42.84   \n",
       "3           E2                        42.84                        42.84   \n",
       "4           E2                        42.59                        42.59   \n",
       "\n",
       "   percent_difference_ctc joining_bonus candidate_relocate_actual  gender  \\\n",
       "0                   42.86            No                        No  Female   \n",
       "1                  180.00            No                        No    Male   \n",
       "2                    0.00            No                        No    Male   \n",
       "3                    0.00            No                        No    Male   \n",
       "4                    0.00            No                       Yes    Male   \n",
       "\n",
       "    candidate_source  rex_in_yrs    lob location  age  status  \n",
       "0             Agency           7    ERS    Noida   34  Joined  \n",
       "1  Employee Referral           8  INFRA  Chennai   34  Joined  \n",
       "2             Agency           4  INFRA    Noida   27  Joined  \n",
       "3  Employee Referral           4  INFRA    Noida   34  Joined  \n",
       "4  Employee Referral           6  INFRA    Noida   34  Joined  "
      ]
     },
     "execution_count": 6,
     "metadata": {},
     "output_type": "execute_result"
    }
   ],
   "source": [
    "raw_df = pd.read_csv( \"./data/IMB533_HR_Data_No_Missing_Value.csv\", \n",
    "                        sep = ',', na_values = ['', ' '])\n",
    "\n",
    "raw_df.columns = raw_df.columns.str.lower().str.replace(' ', '_')\n",
    "raw_df.head()"
   ]
  },
  {
   "cell_type": "code",
   "execution_count": 7,
   "metadata": {},
   "outputs": [],
   "source": [
    "#?pd.read_csv"
   ]
  },
  {
   "cell_type": "markdown",
   "metadata": {},
   "source": [
    "Dropping SLNo and Candidate.Ref as these will not be used for any analysis or model building."
   ]
  },
  {
   "cell_type": "code",
   "execution_count": 8,
   "metadata": {},
   "outputs": [],
   "source": [
    "#?raw_df.drop()"
   ]
  },
  {
   "cell_type": "code",
   "execution_count": 9,
   "metadata": {
    "scrolled": false
   },
   "outputs": [
    {
     "data": {
      "text/html": [
       "<div>\n",
       "<style scoped>\n",
       "    .dataframe tbody tr th:only-of-type {\n",
       "        vertical-align: middle;\n",
       "    }\n",
       "\n",
       "    .dataframe tbody tr th {\n",
       "        vertical-align: top;\n",
       "    }\n",
       "\n",
       "    .dataframe thead th {\n",
       "        text-align: right;\n",
       "    }\n",
       "</style>\n",
       "<table border=\"1\" class=\"dataframe\">\n",
       "  <thead>\n",
       "    <tr style=\"text-align: right;\">\n",
       "      <th></th>\n",
       "      <th>doj_extended</th>\n",
       "      <th>duration_to_accept_offer</th>\n",
       "      <th>notice_period</th>\n",
       "      <th>offered_band</th>\n",
       "      <th>pecent_hike_expected_in_ctc</th>\n",
       "      <th>percent_hike_offered_in_ctc</th>\n",
       "      <th>percent_difference_ctc</th>\n",
       "      <th>joining_bonus</th>\n",
       "      <th>candidate_relocate_actual</th>\n",
       "      <th>gender</th>\n",
       "      <th>candidate_source</th>\n",
       "      <th>rex_in_yrs</th>\n",
       "      <th>lob</th>\n",
       "      <th>location</th>\n",
       "      <th>age</th>\n",
       "      <th>status</th>\n",
       "    </tr>\n",
       "  </thead>\n",
       "  <tbody>\n",
       "    <tr>\n",
       "      <th>0</th>\n",
       "      <td>Yes</td>\n",
       "      <td>14</td>\n",
       "      <td>30</td>\n",
       "      <td>E2</td>\n",
       "      <td>-20.79</td>\n",
       "      <td>13.16</td>\n",
       "      <td>42.86</td>\n",
       "      <td>No</td>\n",
       "      <td>No</td>\n",
       "      <td>Female</td>\n",
       "      <td>Agency</td>\n",
       "      <td>7</td>\n",
       "      <td>ERS</td>\n",
       "      <td>Noida</td>\n",
       "      <td>34</td>\n",
       "      <td>Joined</td>\n",
       "    </tr>\n",
       "    <tr>\n",
       "      <th>1</th>\n",
       "      <td>No</td>\n",
       "      <td>18</td>\n",
       "      <td>30</td>\n",
       "      <td>E2</td>\n",
       "      <td>50.00</td>\n",
       "      <td>320.00</td>\n",
       "      <td>180.00</td>\n",
       "      <td>No</td>\n",
       "      <td>No</td>\n",
       "      <td>Male</td>\n",
       "      <td>Employee Referral</td>\n",
       "      <td>8</td>\n",
       "      <td>INFRA</td>\n",
       "      <td>Chennai</td>\n",
       "      <td>34</td>\n",
       "      <td>Joined</td>\n",
       "    </tr>\n",
       "    <tr>\n",
       "      <th>2</th>\n",
       "      <td>No</td>\n",
       "      <td>3</td>\n",
       "      <td>45</td>\n",
       "      <td>E2</td>\n",
       "      <td>42.84</td>\n",
       "      <td>42.84</td>\n",
       "      <td>0.00</td>\n",
       "      <td>No</td>\n",
       "      <td>No</td>\n",
       "      <td>Male</td>\n",
       "      <td>Agency</td>\n",
       "      <td>4</td>\n",
       "      <td>INFRA</td>\n",
       "      <td>Noida</td>\n",
       "      <td>27</td>\n",
       "      <td>Joined</td>\n",
       "    </tr>\n",
       "    <tr>\n",
       "      <th>3</th>\n",
       "      <td>No</td>\n",
       "      <td>26</td>\n",
       "      <td>30</td>\n",
       "      <td>E2</td>\n",
       "      <td>42.84</td>\n",
       "      <td>42.84</td>\n",
       "      <td>0.00</td>\n",
       "      <td>No</td>\n",
       "      <td>No</td>\n",
       "      <td>Male</td>\n",
       "      <td>Employee Referral</td>\n",
       "      <td>4</td>\n",
       "      <td>INFRA</td>\n",
       "      <td>Noida</td>\n",
       "      <td>34</td>\n",
       "      <td>Joined</td>\n",
       "    </tr>\n",
       "    <tr>\n",
       "      <th>4</th>\n",
       "      <td>Yes</td>\n",
       "      <td>1</td>\n",
       "      <td>120</td>\n",
       "      <td>E2</td>\n",
       "      <td>42.59</td>\n",
       "      <td>42.59</td>\n",
       "      <td>0.00</td>\n",
       "      <td>No</td>\n",
       "      <td>Yes</td>\n",
       "      <td>Male</td>\n",
       "      <td>Employee Referral</td>\n",
       "      <td>6</td>\n",
       "      <td>INFRA</td>\n",
       "      <td>Noida</td>\n",
       "      <td>34</td>\n",
       "      <td>Joined</td>\n",
       "    </tr>\n",
       "  </tbody>\n",
       "</table>\n",
       "</div>"
      ],
      "text/plain": [
       "  doj_extended  duration_to_accept_offer  notice_period offered_band  \\\n",
       "0          Yes                        14             30           E2   \n",
       "1           No                        18             30           E2   \n",
       "2           No                         3             45           E2   \n",
       "3           No                        26             30           E2   \n",
       "4          Yes                         1            120           E2   \n",
       "\n",
       "   pecent_hike_expected_in_ctc  percent_hike_offered_in_ctc  \\\n",
       "0                       -20.79                        13.16   \n",
       "1                        50.00                       320.00   \n",
       "2                        42.84                        42.84   \n",
       "3                        42.84                        42.84   \n",
       "4                        42.59                        42.59   \n",
       "\n",
       "   percent_difference_ctc joining_bonus candidate_relocate_actual  gender  \\\n",
       "0                   42.86            No                        No  Female   \n",
       "1                  180.00            No                        No    Male   \n",
       "2                    0.00            No                        No    Male   \n",
       "3                    0.00            No                        No    Male   \n",
       "4                    0.00            No                       Yes    Male   \n",
       "\n",
       "    candidate_source  rex_in_yrs    lob location  age  status  \n",
       "0             Agency           7    ERS    Noida   34  Joined  \n",
       "1  Employee Referral           8  INFRA  Chennai   34  Joined  \n",
       "2             Agency           4  INFRA    Noida   27  Joined  \n",
       "3  Employee Referral           4  INFRA    Noida   34  Joined  \n",
       "4  Employee Referral           6  INFRA    Noida   34  Joined  "
      ]
     },
     "execution_count": 9,
     "metadata": {},
     "output_type": "execute_result"
    }
   ],
   "source": [
    "if set(['slno','candidate_ref']).issubset(raw_df.columns):\n",
    "    raw_df.drop(['slno','candidate_ref'],axis=1, inplace=True)\n",
    "    \n",
    "raw_df.head()"
   ]
  },
  {
   "cell_type": "markdown",
   "metadata": {},
   "source": [
    "\n",
    "### 2. Structure of the dataset\n",
    "\n"
   ]
  },
  {
   "cell_type": "code",
   "execution_count": 10,
   "metadata": {
    "Rmd_chunk_options": "summarizeData, echo=TRUE,tidy=TRUE",
    "autoscroll": false,
    "scrolled": false
   },
   "outputs": [
    {
     "name": "stdout",
     "output_type": "stream",
     "text": [
      "<class 'pandas.core.frame.DataFrame'>\n",
      "RangeIndex: 8995 entries, 0 to 8994\n",
      "Data columns (total 16 columns):\n",
      "doj_extended                   8995 non-null object\n",
      "duration_to_accept_offer       8995 non-null int64\n",
      "notice_period                  8995 non-null int64\n",
      "offered_band                   8995 non-null object\n",
      "pecent_hike_expected_in_ctc    8995 non-null float64\n",
      "percent_hike_offered_in_ctc    8995 non-null float64\n",
      "percent_difference_ctc         8995 non-null float64\n",
      "joining_bonus                  8995 non-null object\n",
      "candidate_relocate_actual      8995 non-null object\n",
      "gender                         8995 non-null object\n",
      "candidate_source               8995 non-null object\n",
      "rex_in_yrs                     8995 non-null int64\n",
      "lob                            8995 non-null object\n",
      "location                       8995 non-null object\n",
      "age                            8995 non-null int64\n",
      "status                         8995 non-null object\n",
      "dtypes: float64(3), int64(4), object(9)\n",
      "memory usage: 1.1+ MB\n"
     ]
    }
   ],
   "source": [
    "raw_df.info()"
   ]
  },
  {
   "cell_type": "code",
   "execution_count": 11,
   "metadata": {},
   "outputs": [
    {
     "data": {
      "text/plain": [
       "Joined        7313\n",
       "Not Joined    1682\n",
       "Name: status, dtype: int64"
      ]
     },
     "execution_count": 11,
     "metadata": {},
     "output_type": "execute_result"
    },
    {
     "data": {
      "text/html": [
       "<div>\n",
       "<style scoped>\n",
       "    .dataframe tbody tr th:only-of-type {\n",
       "        vertical-align: middle;\n",
       "    }\n",
       "\n",
       "    .dataframe tbody tr th {\n",
       "        vertical-align: top;\n",
       "    }\n",
       "\n",
       "    .dataframe thead th {\n",
       "        text-align: right;\n",
       "    }\n",
       "</style>\n",
       "<table border=\"1\" class=\"dataframe\">\n",
       "  <thead>\n",
       "    <tr style=\"text-align: right;\">\n",
       "      <th></th>\n",
       "      <th>count</th>\n",
       "      <th>mean</th>\n",
       "      <th>std</th>\n",
       "      <th>min</th>\n",
       "      <th>25%</th>\n",
       "      <th>50%</th>\n",
       "      <th>75%</th>\n",
       "      <th>max</th>\n",
       "    </tr>\n",
       "  </thead>\n",
       "  <tbody>\n",
       "    <tr>\n",
       "      <th>duration_to_accept_offer</th>\n",
       "      <td>8995.0</td>\n",
       "      <td>21.434464</td>\n",
       "      <td>25.811616</td>\n",
       "      <td>0.00</td>\n",
       "      <td>3.00</td>\n",
       "      <td>10.0</td>\n",
       "      <td>33.00</td>\n",
       "      <td>224.00</td>\n",
       "    </tr>\n",
       "    <tr>\n",
       "      <th>notice_period</th>\n",
       "      <td>8995.0</td>\n",
       "      <td>39.291829</td>\n",
       "      <td>22.220239</td>\n",
       "      <td>0.00</td>\n",
       "      <td>30.00</td>\n",
       "      <td>30.0</td>\n",
       "      <td>60.00</td>\n",
       "      <td>120.00</td>\n",
       "    </tr>\n",
       "    <tr>\n",
       "      <th>pecent_hike_expected_in_ctc</th>\n",
       "      <td>8995.0</td>\n",
       "      <td>43.864804</td>\n",
       "      <td>29.788975</td>\n",
       "      <td>-68.83</td>\n",
       "      <td>27.27</td>\n",
       "      <td>40.0</td>\n",
       "      <td>53.85</td>\n",
       "      <td>359.77</td>\n",
       "    </tr>\n",
       "    <tr>\n",
       "      <th>percent_hike_offered_in_ctc</th>\n",
       "      <td>8995.0</td>\n",
       "      <td>40.657356</td>\n",
       "      <td>36.064060</td>\n",
       "      <td>-60.53</td>\n",
       "      <td>22.09</td>\n",
       "      <td>36.0</td>\n",
       "      <td>50.00</td>\n",
       "      <td>471.43</td>\n",
       "    </tr>\n",
       "    <tr>\n",
       "      <th>percent_difference_ctc</th>\n",
       "      <td>8995.0</td>\n",
       "      <td>-1.573802</td>\n",
       "      <td>19.610729</td>\n",
       "      <td>-67.27</td>\n",
       "      <td>-8.33</td>\n",
       "      <td>0.0</td>\n",
       "      <td>0.00</td>\n",
       "      <td>300.00</td>\n",
       "    </tr>\n",
       "    <tr>\n",
       "      <th>rex_in_yrs</th>\n",
       "      <td>8995.0</td>\n",
       "      <td>4.239022</td>\n",
       "      <td>2.547571</td>\n",
       "      <td>0.00</td>\n",
       "      <td>3.00</td>\n",
       "      <td>4.0</td>\n",
       "      <td>6.00</td>\n",
       "      <td>24.00</td>\n",
       "    </tr>\n",
       "    <tr>\n",
       "      <th>age</th>\n",
       "      <td>8995.0</td>\n",
       "      <td>29.913174</td>\n",
       "      <td>4.097912</td>\n",
       "      <td>20.00</td>\n",
       "      <td>27.00</td>\n",
       "      <td>29.0</td>\n",
       "      <td>34.00</td>\n",
       "      <td>60.00</td>\n",
       "    </tr>\n",
       "  </tbody>\n",
       "</table>\n",
       "</div>"
      ],
      "text/plain": [
       "                              count       mean        std    min    25%   50%  \\\n",
       "duration_to_accept_offer     8995.0  21.434464  25.811616   0.00   3.00  10.0   \n",
       "notice_period                8995.0  39.291829  22.220239   0.00  30.00  30.0   \n",
       "pecent_hike_expected_in_ctc  8995.0  43.864804  29.788975 -68.83  27.27  40.0   \n",
       "percent_hike_offered_in_ctc  8995.0  40.657356  36.064060 -60.53  22.09  36.0   \n",
       "percent_difference_ctc       8995.0  -1.573802  19.610729 -67.27  -8.33   0.0   \n",
       "rex_in_yrs                   8995.0   4.239022   2.547571   0.00   3.00   4.0   \n",
       "age                          8995.0  29.913174   4.097912  20.00  27.00  29.0   \n",
       "\n",
       "                               75%     max  \n",
       "duration_to_accept_offer     33.00  224.00  \n",
       "notice_period                60.00  120.00  \n",
       "pecent_hike_expected_in_ctc  53.85  359.77  \n",
       "percent_hike_offered_in_ctc  50.00  471.43  \n",
       "percent_difference_ctc        0.00  300.00  \n",
       "rex_in_yrs                    6.00   24.00  \n",
       "age                          34.00   60.00  "
      ]
     },
     "execution_count": 11,
     "metadata": {},
     "output_type": "execute_result"
    }
   ],
   "source": [
    "raw_df.status.value_counts()\n",
    "#raw_df.describe(include='all').transpose()\n",
    "raw_df.describe().transpose()"
   ]
  },
  {
   "cell_type": "markdown",
   "metadata": {},
   "source": [
    "To get a help on the features of a object"
   ]
  },
  {
   "cell_type": "code",
   "execution_count": 12,
   "metadata": {},
   "outputs": [],
   "source": [
    "#?raw_df.status.value_counts()"
   ]
  },
  {
   "cell_type": "markdown",
   "metadata": {},
   "source": [
    "### 2. Summarizing the dataset\n",
    "Create a new data frame and store the raw data copy. This is being done to have a copy of the raw data intact for further manipulation if needed. The *dropna()* function is used for row wise deletion of missing value. The axis = 0 means row-wise, 1 means column wise.\n"
   ]
  },
  {
   "cell_type": "code",
   "execution_count": 13,
   "metadata": {
    "Rmd_chunk_options": "createDataCopy, echo=TRUE,tidy=TRUE",
    "autoscroll": false,
    "scrolled": false
   },
   "outputs": [
    {
     "data": {
      "text/plain": [
       "['doj_extended',\n",
       " 'duration_to_accept_offer',\n",
       " 'notice_period',\n",
       " 'offered_band',\n",
       " 'pecent_hike_expected_in_ctc',\n",
       " 'percent_hike_offered_in_ctc',\n",
       " 'percent_difference_ctc',\n",
       " 'joining_bonus',\n",
       " 'candidate_relocate_actual',\n",
       " 'gender',\n",
       " 'candidate_source',\n",
       " 'rex_in_yrs',\n",
       " 'lob',\n",
       " 'location',\n",
       " 'age',\n",
       " 'status']"
      ]
     },
     "execution_count": 13,
     "metadata": {},
     "output_type": "execute_result"
    }
   ],
   "source": [
    "filter_df = raw_df.dropna(axis=0, how='any', thresh=None, \n",
    "                             subset=None, inplace=False)\n",
    "\n",
    "list(filter_df.columns )"
   ]
  },
  {
   "cell_type": "code",
   "execution_count": 14,
   "metadata": {},
   "outputs": [],
   "source": [
    "#?raw_df.dropna"
   ]
  },
  {
   "cell_type": "markdown",
   "metadata": {},
   "source": [
    "We will first start by printing the unique labels in categorical features"
   ]
  },
  {
   "cell_type": "code",
   "execution_count": 15,
   "metadata": {
    "scrolled": false
   },
   "outputs": [
    {
     "name": "stdout",
     "output_type": "stream",
     "text": [
      "\n",
      "The unique labels in doj_extended is ['Yes' 'No']\n",
      "\n",
      "The values in doj_extended is \n",
      "No     4788\n",
      "Yes    4207\n",
      "Name: doj_extended, dtype: int64\n",
      "\n",
      "\n",
      "The unique labels in offered_band is ['E2' 'E1' 'E3' 'E0']\n",
      "\n",
      "The values in offered_band is \n",
      "E1    5568\n",
      "E2    2711\n",
      "E3     505\n",
      "E0     211\n",
      "Name: offered_band, dtype: int64\n",
      "\n",
      "\n",
      "The unique labels in joining_bonus is ['No' 'Yes']\n",
      "\n",
      "The values in joining_bonus is \n",
      "No     8578\n",
      "Yes     417\n",
      "Name: joining_bonus, dtype: int64\n",
      "\n",
      "\n",
      "The unique labels in candidate_relocate_actual is ['No' 'Yes']\n",
      "\n",
      "The values in candidate_relocate_actual is \n",
      "No     7705\n",
      "Yes    1290\n",
      "Name: candidate_relocate_actual, dtype: int64\n",
      "\n",
      "\n",
      "The unique labels in gender is ['Female' 'Male']\n",
      "\n",
      "The values in gender is \n",
      "Male      7444\n",
      "Female    1551\n",
      "Name: gender, dtype: int64\n",
      "\n",
      "\n",
      "The unique labels in candidate_source is ['Agency' 'Employee Referral' 'Direct']\n",
      "\n",
      "The values in candidate_source is \n",
      "Direct               4801\n",
      "Agency               2585\n",
      "Employee Referral    1609\n",
      "Name: candidate_source, dtype: int64\n",
      "\n",
      "\n",
      "The unique labels in lob is ['ERS' 'INFRA' 'Healthcare' 'BFSI' 'CSMP' 'ETS' 'AXON' 'EAS' 'MMS']\n",
      "\n",
      "The values in lob is \n",
      "INFRA         2850\n",
      "ERS           2426\n",
      "BFSI          1396\n",
      "ETS            691\n",
      "CSMP           579\n",
      "AXON           568\n",
      "EAS            346\n",
      "Healthcare     124\n",
      "MMS             15\n",
      "Name: lob, dtype: int64\n",
      "\n",
      "\n",
      "The unique labels in location is ['Noida' 'Chennai' 'Gurgaon' 'Bangalore' 'Hyderabad' 'Kolkata' 'Cochin'\n",
      " 'Pune' 'Others' 'Mumbai' 'Ahmedabad']\n",
      "\n",
      "The values in location is \n",
      "Chennai      3150\n",
      "Noida        2727\n",
      "Bangalore    2230\n",
      "Hyderabad     341\n",
      "Mumbai        197\n",
      "Gurgaon       146\n",
      "Kolkata       129\n",
      "Pune           48\n",
      "Others         13\n",
      "Cochin          8\n",
      "Ahmedabad       6\n",
      "Name: location, dtype: int64\n",
      "\n",
      "\n",
      "The unique labels in status is ['Joined' 'Not Joined']\n",
      "\n",
      "The values in status is \n",
      "Joined        7313\n",
      "Not Joined    1682\n",
      "Name: status, dtype: int64\n",
      "\n"
     ]
    }
   ],
   "source": [
    "numerical_features = ['duration_to_accept_offer','notice_period','pecent_hike_expected_in_ctc',\n",
    "                      'percent_hike_offered_in_ctc','percent_difference_ctc','rex_in_yrs','age']\n",
    "\n",
    "categorical_features = ['doj_extended','offered_band','joining_bonus','candidate_relocate_actual',\n",
    "                        'gender','candidate_source','lob','location','status']\n",
    "\n",
    "for f in categorical_features:\n",
    "    print(\"\\nThe unique labels in {} is {}\\n\".format(f, filter_df[f].unique()))\n",
    "    print(\"The values in {} is \\n{}\\n\".format(f,  filter_df[f].value_counts()))\n"
   ]
  },
  {
   "cell_type": "markdown",
   "metadata": {},
   "source": [
    "Looking at the feature **line of business** it seems that *EAS, Healthcare and MMS* does not have enough observations and may be clubbed together"
   ]
  },
  {
   "cell_type": "code",
   "execution_count": 16,
   "metadata": {},
   "outputs": [
    {
     "data": {
      "text/plain": [
       "INFRA     2850\n",
       "ERS       2426\n",
       "BFSI      1396\n",
       "ETS        691\n",
       "CSMP       579\n",
       "AXON       568\n",
       "Others     485\n",
       "Name: lob, dtype: int64"
      ]
     },
     "execution_count": 16,
     "metadata": {},
     "output_type": "execute_result"
    }
   ],
   "source": [
    "filter_df['lob']=np.where(filter_df['lob'] =='EAS', 'Others', filter_df['lob'])\n",
    "filter_df['lob']=np.where(filter_df['lob'] =='Healthcare', 'Others', filter_df['lob'])\n",
    "filter_df['lob']=np.where(filter_df['lob'] =='MMS', 'Others', filter_df['lob'])\n",
    "filter_df.lob.value_counts()"
   ]
  },
  {
   "cell_type": "markdown",
   "metadata": {},
   "source": [
    "We will use **groupby** function of pandas to get deeper insights of the behaviour of people **Joining** or **Not Joining** the company. We will write a generic function to report the mean by any categorical variable."
   ]
  },
  {
   "cell_type": "code",
   "execution_count": 17,
   "metadata": {},
   "outputs": [],
   "source": [
    "def group_by (categorical_features):\n",
    "    return filter_df.groupby(categorical_features).mean()\n",
    "\n"
   ]
  },
  {
   "cell_type": "code",
   "execution_count": 18,
   "metadata": {},
   "outputs": [
    {
     "data": {
      "text/html": [
       "<div>\n",
       "<style scoped>\n",
       "    .dataframe tbody tr th:only-of-type {\n",
       "        vertical-align: middle;\n",
       "    }\n",
       "\n",
       "    .dataframe tbody tr th {\n",
       "        vertical-align: top;\n",
       "    }\n",
       "\n",
       "    .dataframe thead th {\n",
       "        text-align: right;\n",
       "    }\n",
       "</style>\n",
       "<table border=\"1\" class=\"dataframe\">\n",
       "  <thead>\n",
       "    <tr style=\"text-align: right;\">\n",
       "      <th></th>\n",
       "      <th>duration_to_accept_offer</th>\n",
       "      <th>notice_period</th>\n",
       "      <th>pecent_hike_expected_in_ctc</th>\n",
       "      <th>percent_hike_offered_in_ctc</th>\n",
       "      <th>percent_difference_ctc</th>\n",
       "      <th>rex_in_yrs</th>\n",
       "      <th>age</th>\n",
       "    </tr>\n",
       "    <tr>\n",
       "      <th>doj_extended</th>\n",
       "      <th></th>\n",
       "      <th></th>\n",
       "      <th></th>\n",
       "      <th></th>\n",
       "      <th></th>\n",
       "      <th></th>\n",
       "      <th></th>\n",
       "    </tr>\n",
       "  </thead>\n",
       "  <tbody>\n",
       "    <tr>\n",
       "      <th>No</th>\n",
       "      <td>13.171261</td>\n",
       "      <td>36.381579</td>\n",
       "      <td>43.907550</td>\n",
       "      <td>40.923223</td>\n",
       "      <td>-1.443452</td>\n",
       "      <td>4.011696</td>\n",
       "      <td>29.699248</td>\n",
       "    </tr>\n",
       "    <tr>\n",
       "      <th>Yes</th>\n",
       "      <td>30.838840</td>\n",
       "      <td>42.603993</td>\n",
       "      <td>43.816154</td>\n",
       "      <td>40.354773</td>\n",
       "      <td>-1.722154</td>\n",
       "      <td>4.497742</td>\n",
       "      <td>30.156644</td>\n",
       "    </tr>\n",
       "  </tbody>\n",
       "</table>\n",
       "</div>"
      ],
      "text/plain": [
       "              duration_to_accept_offer  notice_period  \\\n",
       "doj_extended                                            \n",
       "No                           13.171261      36.381579   \n",
       "Yes                          30.838840      42.603993   \n",
       "\n",
       "              pecent_hike_expected_in_ctc  percent_hike_offered_in_ctc  \\\n",
       "doj_extended                                                             \n",
       "No                              43.907550                    40.923223   \n",
       "Yes                             43.816154                    40.354773   \n",
       "\n",
       "              percent_difference_ctc  rex_in_yrs        age  \n",
       "doj_extended                                                 \n",
       "No                         -1.443452    4.011696  29.699248  \n",
       "Yes                        -1.722154    4.497742  30.156644  "
      ]
     },
     "execution_count": 18,
     "metadata": {},
     "output_type": "execute_result"
    },
    {
     "data": {
      "text/html": [
       "<div>\n",
       "<style scoped>\n",
       "    .dataframe tbody tr th:only-of-type {\n",
       "        vertical-align: middle;\n",
       "    }\n",
       "\n",
       "    .dataframe tbody tr th {\n",
       "        vertical-align: top;\n",
       "    }\n",
       "\n",
       "    .dataframe thead th {\n",
       "        text-align: right;\n",
       "    }\n",
       "</style>\n",
       "<table border=\"1\" class=\"dataframe\">\n",
       "  <thead>\n",
       "    <tr style=\"text-align: right;\">\n",
       "      <th></th>\n",
       "      <th>duration_to_accept_offer</th>\n",
       "      <th>notice_period</th>\n",
       "      <th>pecent_hike_expected_in_ctc</th>\n",
       "      <th>percent_hike_offered_in_ctc</th>\n",
       "      <th>percent_difference_ctc</th>\n",
       "      <th>rex_in_yrs</th>\n",
       "      <th>age</th>\n",
       "    </tr>\n",
       "    <tr>\n",
       "      <th>status</th>\n",
       "      <th></th>\n",
       "      <th></th>\n",
       "      <th></th>\n",
       "      <th></th>\n",
       "      <th></th>\n",
       "      <th></th>\n",
       "      <th></th>\n",
       "    </tr>\n",
       "  </thead>\n",
       "  <tbody>\n",
       "    <tr>\n",
       "      <th>Joined</th>\n",
       "      <td>20.624368</td>\n",
       "      <td>37.244633</td>\n",
       "      <td>43.860660</td>\n",
       "      <td>41.133205</td>\n",
       "      <td>-1.262036</td>\n",
       "      <td>4.192944</td>\n",
       "      <td>30.004102</td>\n",
       "    </tr>\n",
       "    <tr>\n",
       "      <th>Not Joined</th>\n",
       "      <td>24.956599</td>\n",
       "      <td>48.192628</td>\n",
       "      <td>43.882818</td>\n",
       "      <td>38.588460</td>\n",
       "      <td>-2.929298</td>\n",
       "      <td>4.439358</td>\n",
       "      <td>29.517836</td>\n",
       "    </tr>\n",
       "  </tbody>\n",
       "</table>\n",
       "</div>"
      ],
      "text/plain": [
       "            duration_to_accept_offer  notice_period  \\\n",
       "status                                                \n",
       "Joined                     20.624368      37.244633   \n",
       "Not Joined                 24.956599      48.192628   \n",
       "\n",
       "            pecent_hike_expected_in_ctc  percent_hike_offered_in_ctc  \\\n",
       "status                                                                 \n",
       "Joined                        43.860660                    41.133205   \n",
       "Not Joined                    43.882818                    38.588460   \n",
       "\n",
       "            percent_difference_ctc  rex_in_yrs        age  \n",
       "status                                                     \n",
       "Joined                   -1.262036    4.192944  30.004102  \n",
       "Not Joined               -2.929298    4.439358  29.517836  "
      ]
     },
     "execution_count": 18,
     "metadata": {},
     "output_type": "execute_result"
    },
    {
     "data": {
      "text/html": [
       "<div>\n",
       "<style scoped>\n",
       "    .dataframe tbody tr th:only-of-type {\n",
       "        vertical-align: middle;\n",
       "    }\n",
       "\n",
       "    .dataframe tbody tr th {\n",
       "        vertical-align: top;\n",
       "    }\n",
       "\n",
       "    .dataframe thead th {\n",
       "        text-align: right;\n",
       "    }\n",
       "</style>\n",
       "<table border=\"1\" class=\"dataframe\">\n",
       "  <thead>\n",
       "    <tr style=\"text-align: right;\">\n",
       "      <th></th>\n",
       "      <th>duration_to_accept_offer</th>\n",
       "      <th>notice_period</th>\n",
       "      <th>pecent_hike_expected_in_ctc</th>\n",
       "      <th>percent_hike_offered_in_ctc</th>\n",
       "      <th>percent_difference_ctc</th>\n",
       "      <th>rex_in_yrs</th>\n",
       "      <th>age</th>\n",
       "    </tr>\n",
       "    <tr>\n",
       "      <th>location</th>\n",
       "      <th></th>\n",
       "      <th></th>\n",
       "      <th></th>\n",
       "      <th></th>\n",
       "      <th></th>\n",
       "      <th></th>\n",
       "      <th></th>\n",
       "    </tr>\n",
       "  </thead>\n",
       "  <tbody>\n",
       "    <tr>\n",
       "      <th>Ahmedabad</th>\n",
       "      <td>0.500000</td>\n",
       "      <td>20.000000</td>\n",
       "      <td>33.445000</td>\n",
       "      <td>14.901667</td>\n",
       "      <td>-14.191667</td>\n",
       "      <td>1.666667</td>\n",
       "      <td>27.500000</td>\n",
       "    </tr>\n",
       "    <tr>\n",
       "      <th>Bangalore</th>\n",
       "      <td>26.322870</td>\n",
       "      <td>40.156951</td>\n",
       "      <td>44.055359</td>\n",
       "      <td>40.284883</td>\n",
       "      <td>-1.971148</td>\n",
       "      <td>4.455157</td>\n",
       "      <td>30.129148</td>\n",
       "    </tr>\n",
       "    <tr>\n",
       "      <th>Chennai</th>\n",
       "      <td>22.175556</td>\n",
       "      <td>39.100000</td>\n",
       "      <td>47.259362</td>\n",
       "      <td>43.916314</td>\n",
       "      <td>-1.492286</td>\n",
       "      <td>4.176825</td>\n",
       "      <td>29.773333</td>\n",
       "    </tr>\n",
       "    <tr>\n",
       "      <th>Cochin</th>\n",
       "      <td>4.375000</td>\n",
       "      <td>30.000000</td>\n",
       "      <td>53.757500</td>\n",
       "      <td>25.423750</td>\n",
       "      <td>-16.875000</td>\n",
       "      <td>2.250000</td>\n",
       "      <td>28.875000</td>\n",
       "    </tr>\n",
       "    <tr>\n",
       "      <th>Gurgaon</th>\n",
       "      <td>18.164384</td>\n",
       "      <td>40.171233</td>\n",
       "      <td>39.957466</td>\n",
       "      <td>34.970205</td>\n",
       "      <td>-2.483356</td>\n",
       "      <td>3.835616</td>\n",
       "      <td>29.541096</td>\n",
       "    </tr>\n",
       "    <tr>\n",
       "      <th>Hyderabad</th>\n",
       "      <td>25.844575</td>\n",
       "      <td>42.580645</td>\n",
       "      <td>41.117889</td>\n",
       "      <td>39.962434</td>\n",
       "      <td>-0.083021</td>\n",
       "      <td>5.214076</td>\n",
       "      <td>30.958944</td>\n",
       "    </tr>\n",
       "    <tr>\n",
       "      <th>Kolkata</th>\n",
       "      <td>25.062016</td>\n",
       "      <td>44.302326</td>\n",
       "      <td>42.501938</td>\n",
       "      <td>33.135116</td>\n",
       "      <td>-5.988527</td>\n",
       "      <td>5.333333</td>\n",
       "      <td>31.465116</td>\n",
       "    </tr>\n",
       "    <tr>\n",
       "      <th>Mumbai</th>\n",
       "      <td>12.309645</td>\n",
       "      <td>30.685279</td>\n",
       "      <td>46.421066</td>\n",
       "      <td>42.124518</td>\n",
       "      <td>-2.685228</td>\n",
       "      <td>4.096447</td>\n",
       "      <td>30.710660</td>\n",
       "    </tr>\n",
       "    <tr>\n",
       "      <th>Noida</th>\n",
       "      <td>16.857719</td>\n",
       "      <td>38.828383</td>\n",
       "      <td>40.262901</td>\n",
       "      <td>38.047811</td>\n",
       "      <td>-1.072802</td>\n",
       "      <td>3.993766</td>\n",
       "      <td>29.635497</td>\n",
       "    </tr>\n",
       "    <tr>\n",
       "      <th>Others</th>\n",
       "      <td>10.076923</td>\n",
       "      <td>33.461538</td>\n",
       "      <td>45.862308</td>\n",
       "      <td>43.654615</td>\n",
       "      <td>-1.286154</td>\n",
       "      <td>3.538462</td>\n",
       "      <td>30.769231</td>\n",
       "    </tr>\n",
       "    <tr>\n",
       "      <th>Pune</th>\n",
       "      <td>20.562500</td>\n",
       "      <td>39.375000</td>\n",
       "      <td>40.560625</td>\n",
       "      <td>33.723958</td>\n",
       "      <td>-4.275000</td>\n",
       "      <td>5.000000</td>\n",
       "      <td>31.333333</td>\n",
       "    </tr>\n",
       "  </tbody>\n",
       "</table>\n",
       "</div>"
      ],
      "text/plain": [
       "           duration_to_accept_offer  notice_period  \\\n",
       "location                                             \n",
       "Ahmedabad                  0.500000      20.000000   \n",
       "Bangalore                 26.322870      40.156951   \n",
       "Chennai                   22.175556      39.100000   \n",
       "Cochin                     4.375000      30.000000   \n",
       "Gurgaon                   18.164384      40.171233   \n",
       "Hyderabad                 25.844575      42.580645   \n",
       "Kolkata                   25.062016      44.302326   \n",
       "Mumbai                    12.309645      30.685279   \n",
       "Noida                     16.857719      38.828383   \n",
       "Others                    10.076923      33.461538   \n",
       "Pune                      20.562500      39.375000   \n",
       "\n",
       "           pecent_hike_expected_in_ctc  percent_hike_offered_in_ctc  \\\n",
       "location                                                              \n",
       "Ahmedabad                    33.445000                    14.901667   \n",
       "Bangalore                    44.055359                    40.284883   \n",
       "Chennai                      47.259362                    43.916314   \n",
       "Cochin                       53.757500                    25.423750   \n",
       "Gurgaon                      39.957466                    34.970205   \n",
       "Hyderabad                    41.117889                    39.962434   \n",
       "Kolkata                      42.501938                    33.135116   \n",
       "Mumbai                       46.421066                    42.124518   \n",
       "Noida                        40.262901                    38.047811   \n",
       "Others                       45.862308                    43.654615   \n",
       "Pune                         40.560625                    33.723958   \n",
       "\n",
       "           percent_difference_ctc  rex_in_yrs        age  \n",
       "location                                                  \n",
       "Ahmedabad              -14.191667    1.666667  27.500000  \n",
       "Bangalore               -1.971148    4.455157  30.129148  \n",
       "Chennai                 -1.492286    4.176825  29.773333  \n",
       "Cochin                 -16.875000    2.250000  28.875000  \n",
       "Gurgaon                 -2.483356    3.835616  29.541096  \n",
       "Hyderabad               -0.083021    5.214076  30.958944  \n",
       "Kolkata                 -5.988527    5.333333  31.465116  \n",
       "Mumbai                  -2.685228    4.096447  30.710660  \n",
       "Noida                   -1.072802    3.993766  29.635497  \n",
       "Others                  -1.286154    3.538462  30.769231  \n",
       "Pune                    -4.275000    5.000000  31.333333  "
      ]
     },
     "execution_count": 18,
     "metadata": {},
     "output_type": "execute_result"
    }
   ],
   "source": [
    "group_by(\"doj_extended\")\n",
    "group_by(\"status\")\n",
    "group_by(\"location\")"
   ]
  },
  {
   "cell_type": "markdown",
   "metadata": {},
   "source": [
    "### 3. Visualizing the Data\n",
    "\n",
    "Plot can be done using the callable functions of \n",
    "\n",
    ">1. pandas library (http://pandas.pydata.org/pandas-docs/stable/visualization.html)\n",
    "2. matplotlib library (https://matplotlib.org/) or\n",
    "3. seaborn library (https://seaborn.pydata.org/) which is based on matplotlib and provides interface for drawing attractive statistical graphics.\n",
    "\n",
    "#### 3a. Visualizing the Data using pandas"
   ]
  },
  {
   "cell_type": "code",
   "execution_count": 19,
   "metadata": {},
   "outputs": [],
   "source": [
    "def hist_plot(data, group_by, xlabel,ylabel):\n",
    "    pd.crosstab(data,group_by).plot(kind='density')\n",
    "    plt.xlabel(xlabel, size = 14)\n",
    "    plt.ylabel(ylabel, size = 14)\n",
    "    plt.title('Plot', size = 18)\n",
    "    plt.grid(True)\n",
    "    x1,x2,y1,y2 = plt.axis()\n",
    "    plt.axis((0,x2,y1,y2))\n",
    "    plt.show()\n",
    "    #plt.subplot(1, 2)"
   ]
  },
  {
   "cell_type": "code",
   "execution_count": 20,
   "metadata": {
    "scrolled": false
   },
   "outputs": [
    {
     "data": {
      "image/png": "[encoded data removed]",
      "text/plain": [
       "<Figure size 432x288 with 1 Axes>"
      ]
     },
     "metadata": {
      "needs_background": "light"
     },
     "output_type": "display_data"
    },
    {
     "data": {
      "image/png": "[encoded data removed]",
      "text/plain": [
       "<Figure size 432x288 with 1 Axes>"
      ]
     },
     "metadata": {
      "needs_background": "light"
     },
     "output_type": "display_data"
    },
    {
     "data": {
      "image/png": "[encoded data removed]",
      "text/plain": [
       "<Figure size 432x288 with 1 Axes>"
      ]
     },
     "metadata": {
      "needs_background": "light"
     },
     "output_type": "display_data"
    },
    {
     "data": {
      "image/png": "[encoded data removed]",
      "text/plain": [
       "<Figure size 432x288 with 1 Axes>"
      ]
     },
     "metadata": {
      "needs_background": "light"
     },
     "output_type": "display_data"
    },
    {
     "data": {
      "image/png": "[encoded data removed]",
      "text/plain": [
       "<Figure size 432x288 with 1 Axes>"
      ]
     },
     "metadata": {
      "needs_background": "light"
     },
     "output_type": "display_data"
    },
    {
     "data": {
      "image/png": "[encoded data removed]",
      "text/plain": [
       "<Figure size 432x288 with 1 Axes>"
      ]
     },
     "metadata": {
      "needs_background": "light"
     },
     "output_type": "display_data"
    },
    {
     "data": {
      "image/png": "[encoded data removed]",
      "text/plain": [
       "<Figure size 432x288 with 1 Axes>"
      ]
     },
     "metadata": {
      "needs_background": "light"
     },
     "output_type": "display_data"
    },
    {
     "data": {
      "image/png": "[encoded data removed]",
      "text/plain": [
       "<Figure size 432x288 with 1 Axes>"
      ]
     },
     "metadata": {
      "needs_background": "light"
     },
     "output_type": "display_data"
    },
    {
     "data": {
      "image/png": "[encoded data removed]",
      "text/plain": [
       "<Figure size 432x288 with 1 Axes>"
      ]
     },
     "metadata": {
      "needs_background": "light"
     },
     "output_type": "display_data"
    }
   ],
   "source": [
    "numerical_features_set = ['duration_to_accept_offer','notice_period','age']\n",
    "categorical_features_set = ['offered_band','gender','status']\n",
    "\n",
    "for c in categorical_features_set:\n",
    "    for n in numerical_features_set:\n",
    "        hist_plot(filter_df[n], filter_df[c], n,c)"
   ]
  },
  {
   "cell_type": "markdown",
   "metadata": {},
   "source": [
    "## Model Building\n",
    "\n",
    "### Dummy Variable coding\n",
    "\n",
    "Remove the response variable from the dataset¶\n"
   ]
  },
  {
   "cell_type": "code",
   "execution_count": 21,
   "metadata": {},
   "outputs": [
    {
     "data": {
      "text/plain": [
       "['doj_extended',\n",
       " 'duration_to_accept_offer',\n",
       " 'notice_period',\n",
       " 'offered_band',\n",
       " 'pecent_hike_expected_in_ctc',\n",
       " 'percent_hike_offered_in_ctc',\n",
       " 'percent_difference_ctc',\n",
       " 'joining_bonus',\n",
       " 'candidate_relocate_actual',\n",
       " 'gender',\n",
       " 'candidate_source',\n",
       " 'rex_in_yrs',\n",
       " 'lob',\n",
       " 'location',\n",
       " 'age',\n",
       " 'status']"
      ]
     },
     "execution_count": 21,
     "metadata": {},
     "output_type": "execute_result"
    }
   ],
   "source": [
    "list(filter_df.columns)"
   ]
  },
  {
   "cell_type": "code",
   "execution_count": 22,
   "metadata": {},
   "outputs": [],
   "source": [
    "X_features = list(filter_df.columns)\n",
    "X_features.remove('status')\n",
    "X_features.remove('pecent_hike_expected_in_ctc')\n",
    "X_features.remove('percent_hike_offered_in_ctc')\n",
    "X_features.remove('candidate_relocate_actual')"
   ]
  },
  {
   "cell_type": "code",
   "execution_count": 23,
   "metadata": {
    "scrolled": true
   },
   "outputs": [
    {
     "data": {
      "text/plain": [
       "['doj_extended',\n",
       " 'duration_to_accept_offer',\n",
       " 'notice_period',\n",
       " 'offered_band',\n",
       " 'percent_difference_ctc',\n",
       " 'joining_bonus',\n",
       " 'gender',\n",
       " 'candidate_source',\n",
       " 'rex_in_yrs',\n",
       " 'lob',\n",
       " 'location',\n",
       " 'age']"
      ]
     },
     "execution_count": 23,
     "metadata": {},
     "output_type": "execute_result"
    }
   ],
   "source": [
    "X_features"
   ]
  },
  {
   "cell_type": "code",
   "execution_count": 24,
   "metadata": {},
   "outputs": [],
   "source": [
    "categorical_features = ['doj_extended','offered_band','joining_bonus','gender','candidate_source','lob','location']"
   ]
  },
  {
   "cell_type": "code",
   "execution_count": 25,
   "metadata": {},
   "outputs": [],
   "source": [
    "#for i in categorical_features:\n",
    " #   if filter_df.dtypes.name = 'category'\n",
    "encoded_X_df = pd.get_dummies( filter_df[X_features], columns = categorical_features, drop_first = True )\n",
    "\n",
    "encoded_Y_df = pd.get_dummies( filter_df['status'], drop_first=False)"
   ]
  },
  {
   "cell_type": "code",
   "execution_count": 26,
   "metadata": {},
   "outputs": [
    {
     "data": {
      "text/html": [
       "<div>\n",
       "<style scoped>\n",
       "    .dataframe tbody tr th:only-of-type {\n",
       "        vertical-align: middle;\n",
       "    }\n",
       "\n",
       "    .dataframe tbody tr th {\n",
       "        vertical-align: top;\n",
       "    }\n",
       "\n",
       "    .dataframe thead th {\n",
       "        text-align: right;\n",
       "    }\n",
       "</style>\n",
       "<table border=\"1\" class=\"dataframe\">\n",
       "  <thead>\n",
       "    <tr style=\"text-align: right;\">\n",
       "      <th></th>\n",
       "      <th>Joined</th>\n",
       "      <th>Not Joined</th>\n",
       "    </tr>\n",
       "  </thead>\n",
       "  <tbody>\n",
       "    <tr>\n",
       "      <th>0</th>\n",
       "      <td>1</td>\n",
       "      <td>0</td>\n",
       "    </tr>\n",
       "    <tr>\n",
       "      <th>1</th>\n",
       "      <td>1</td>\n",
       "      <td>0</td>\n",
       "    </tr>\n",
       "    <tr>\n",
       "      <th>2</th>\n",
       "      <td>1</td>\n",
       "      <td>0</td>\n",
       "    </tr>\n",
       "    <tr>\n",
       "      <th>3</th>\n",
       "      <td>1</td>\n",
       "      <td>0</td>\n",
       "    </tr>\n",
       "    <tr>\n",
       "      <th>4</th>\n",
       "      <td>1</td>\n",
       "      <td>0</td>\n",
       "    </tr>\n",
       "  </tbody>\n",
       "</table>\n",
       "</div>"
      ],
      "text/plain": [
       "   Joined  Not Joined\n",
       "0       1           0\n",
       "1       1           0\n",
       "2       1           0\n",
       "3       1           0\n",
       "4       1           0"
      ]
     },
     "execution_count": 26,
     "metadata": {},
     "output_type": "execute_result"
    }
   ],
   "source": [
    "encoded_Y_df.head()"
   ]
  },
  {
   "cell_type": "code",
   "execution_count": 27,
   "metadata": {},
   "outputs": [
    {
     "name": "stdout",
     "output_type": "stream",
     "text": [
      "<class 'pandas.core.frame.DataFrame'>\n",
      "Int64Index: 8995 entries, 0 to 8994\n",
      "Data columns (total 29 columns):\n",
      "duration_to_accept_offer              8995 non-null int64\n",
      "notice_period                         8995 non-null int64\n",
      "percent_difference_ctc                8995 non-null float64\n",
      "rex_in_yrs                            8995 non-null int64\n",
      "age                                   8995 non-null int64\n",
      "doj_extended_Yes                      8995 non-null uint8\n",
      "offered_band_E1                       8995 non-null uint8\n",
      "offered_band_E2                       8995 non-null uint8\n",
      "offered_band_E3                       8995 non-null uint8\n",
      "joining_bonus_Yes                     8995 non-null uint8\n",
      "gender_Male                           8995 non-null uint8\n",
      "candidate_source_Direct               8995 non-null uint8\n",
      "candidate_source_Employee Referral    8995 non-null uint8\n",
      "lob_BFSI                              8995 non-null uint8\n",
      "lob_CSMP                              8995 non-null uint8\n",
      "lob_ERS                               8995 non-null uint8\n",
      "lob_ETS                               8995 non-null uint8\n",
      "lob_INFRA                             8995 non-null uint8\n",
      "lob_Others                            8995 non-null uint8\n",
      "location_Bangalore                    8995 non-null uint8\n",
      "location_Chennai                      8995 non-null uint8\n",
      "location_Cochin                       8995 non-null uint8\n",
      "location_Gurgaon                      8995 non-null uint8\n",
      "location_Hyderabad                    8995 non-null uint8\n",
      "location_Kolkata                      8995 non-null uint8\n",
      "location_Mumbai                       8995 non-null uint8\n",
      "location_Noida                        8995 non-null uint8\n",
      "location_Others                       8995 non-null uint8\n",
      "location_Pune                         8995 non-null uint8\n",
      "dtypes: float64(1), int64(4), uint8(24)\n",
      "memory usage: 632.5 KB\n"
     ]
    }
   ],
   "source": [
    "pd.options.display.max_columns = None\n",
    "encoded_X_df.info()"
   ]
  },
  {
   "cell_type": "code",
   "execution_count": 28,
   "metadata": {},
   "outputs": [
    {
     "name": "stdout",
     "output_type": "stream",
     "text": [
      "<class 'pandas.core.frame.DataFrame'>\n",
      "Int64Index: 8995 entries, 0 to 8994\n",
      "Data columns (total 1 columns):\n",
      "Joined    8995 non-null uint8\n",
      "dtypes: uint8(1)\n",
      "memory usage: 79.1 KB\n"
     ]
    }
   ],
   "source": [
    "Y = encoded_Y_df.filter(['Joined'], axis =1)\n",
    "X = encoded_X_df\n",
    "Y.info()"
   ]
  },
  {
   "cell_type": "markdown",
   "metadata": {},
   "source": [
    "### Train and test data split using Python\n",
    "\n",
    "The train and test split can also be done using the **sklearn module**"
   ]
  },
  {
   "cell_type": "code",
   "execution_count": 29,
   "metadata": {},
   "outputs": [],
   "source": [
    "from sklearn.model_selection import train_test_split\n",
    "\n",
    "X_train, X_test, y_train, y_test = train_test_split( X, Y, test_size = 0.2, random_state = 42)"
   ]
  },
  {
   "cell_type": "markdown",
   "metadata": {},
   "source": [
    "In case there is class imbalance, the below code chunk can be used to remove the class imbalance before any algorithm is tried."
   ]
  },
  {
   "cell_type": "markdown",
   "metadata": {},
   "source": [
    "## Model Building: Using the **sklearn** \n",
    "\n"
   ]
  },
  {
   "cell_type": "code",
   "execution_count": 30,
   "metadata": {},
   "outputs": [],
   "source": [
    "from sklearn import linear_model #linear_model, ensemble, neural_network, naive bayes, svm, tree\n",
    "#dir(linear_model)"
   ]
  },
  {
   "cell_type": "markdown",
   "metadata": {},
   "source": [
    "The following methods apply on logisticRegression:\n",
    "> 1. decision_function(X)\tPredict confidence scores for samples.\n",
    "2. densify()\tConvert coefficient matrix to dense array format.\n",
    "3. fit(X, y[, sample_weight])\tFit the model according to the given training data.\n",
    "4. get_params([deep])\tGet parameters for this estimator.\n",
    "5. predict(X)\tPredict class labels for samples in X.\n",
    "6. predict_log_proba(X)\tLog of probability estimates.\n",
    "7. predict_proba(X)\tProbability estimates.\n",
    "8. score(X, y[, sample_weight])\tReturns the score using the scoring option on the given test data and labels.\n",
    "9. set_params(**params)\tSet the parameters of this estimator.\n",
    "10. sparsify()\tConvert coefficient matrix to sparse format.\n",
    "\n",
    "Look at `logisticRegressionCV` in case of building logstic regression model with cross validation"
   ]
  },
  {
   "cell_type": "code",
   "execution_count": 31,
   "metadata": {
    "Rmd_chunk_options": "caretModel, echo=TRUE, message=FALSE, warning=FALSE",
    "autoscroll": false,
    "scrolled": false
   },
   "outputs": [
    {
     "data": {
      "text/plain": [
       "' \\nusing the ravel function to convert the y_train which is a column vector to \\na flattened array. Being done as the function expects an array to be passed. \\n'"
      ]
     },
     "execution_count": 31,
     "metadata": {},
     "output_type": "execute_result"
    },
    {
     "data": {
      "text/plain": [
       "LogisticRegression(C=1.0, class_weight=None, dual=False, fit_intercept=True,\n",
       "                   intercept_scaling=1, l1_ratio=None, max_iter=100,\n",
       "                   multi_class='warn', n_jobs=None, penalty='l1',\n",
       "                   random_state=None, solver='liblinear', tol=0.0001, verbose=0,\n",
       "                   warm_start=False)"
      ]
     },
     "execution_count": 31,
     "metadata": {},
     "output_type": "execute_result"
    }
   ],
   "source": [
    "\"\"\" \n",
    "using the ravel function to convert the y_train which is a column vector to \n",
    "a flattened array. Being done as the function expects an array to be passed. \n",
    "\"\"\"\n",
    "#linear_model.LogisticRegressionCV?\n",
    "\n",
    "lg_reg_model = linear_model.LogisticRegression(penalty=\"l1\", solver = 'liblinear' )\n",
    "\n",
    "lg_reg_model.fit(X_train,y_train.values.ravel())"
   ]
  },
  {
   "cell_type": "markdown",
   "metadata": {},
   "source": [
    "For more information on the solver parameter, refer:\n",
    "\n",
    "> 1. LIBLINEAR – A Library for Large Linear Classification: https://www.csie.ntu.edu.tw/~cjlin/liblinear/\n",
    "2. SAG – Mark Schmidt, Nicolas Le Roux, and Francis Bach\n",
    "    Minimizing Finite Sums with the Stochastic Average Gradient https://hal.inria.fr/hal-00860051/document\n",
    "3. SAGA – Defazio, A., Bach F. & Lacoste-Julien S. (2014).\n",
    "    SAGA: A Fast Incremental Gradient Method With Support for Non-Strongly Convex Composite Objectives https://arxiv.org/abs/1407.0202\n",
    "4. Hsiang-Fu Yu, Fang-Lan Huang, Chih-Jen Lin (2011). Dual coordinate descent\n",
    "    methods for logistic regression and maximum entropy models. Machine Learning 85(1-2):41-75. https://www.csie.ntu.edu.tw/~cjlin/papers/maxent_dual.pdf\n",
    "\n",
    "\n",
    "More on logisticRegression at: https://scikit-learn.org/stable/modules/generated/sklearn.linear_model.LogisticRegression.html#sklearn.linear_model.LogisticRegression"
   ]
  },
  {
   "cell_type": "markdown",
   "metadata": {},
   "source": [
    "## Model Evaluation\n"
   ]
  },
  {
   "cell_type": "markdown",
   "metadata": {},
   "source": [
    "### 1. The prediction on train data.\n",
    "\n",
    "To predict the outcome on the **train set**\n",
    "> * Use **predict** function of the model object \n"
   ]
  },
  {
   "cell_type": "code",
   "execution_count": 32,
   "metadata": {
    "Rmd_chunk_options": "caretVarImp, echo=TRUE",
    "autoscroll": false,
    "scrolled": false
   },
   "outputs": [
    {
     "data": {
      "text/html": [
       "<div>\n",
       "<style scoped>\n",
       "    .dataframe tbody tr th:only-of-type {\n",
       "        vertical-align: middle;\n",
       "    }\n",
       "\n",
       "    .dataframe tbody tr th {\n",
       "        vertical-align: top;\n",
       "    }\n",
       "\n",
       "    .dataframe thead th {\n",
       "        text-align: right;\n",
       "    }\n",
       "</style>\n",
       "<table border=\"1\" class=\"dataframe\">\n",
       "  <thead>\n",
       "    <tr style=\"text-align: right;\">\n",
       "      <th></th>\n",
       "      <th>0</th>\n",
       "    </tr>\n",
       "  </thead>\n",
       "  <tbody>\n",
       "    <tr>\n",
       "      <th>0</th>\n",
       "      <td>1</td>\n",
       "    </tr>\n",
       "    <tr>\n",
       "      <th>1</th>\n",
       "      <td>1</td>\n",
       "    </tr>\n",
       "    <tr>\n",
       "      <th>2</th>\n",
       "      <td>1</td>\n",
       "    </tr>\n",
       "    <tr>\n",
       "      <th>3</th>\n",
       "      <td>1</td>\n",
       "    </tr>\n",
       "    <tr>\n",
       "      <th>4</th>\n",
       "      <td>1</td>\n",
       "    </tr>\n",
       "  </tbody>\n",
       "</table>\n",
       "</div>"
      ],
      "text/plain": [
       "   0\n",
       "0  1\n",
       "1  1\n",
       "2  1\n",
       "3  1\n",
       "4  1"
      ]
     },
     "execution_count": 32,
     "metadata": {},
     "output_type": "execute_result"
    }
   ],
   "source": [
    "predict_class_train_df = pd.DataFrame(lg_reg_model.predict(X_train))\n",
    "predict_class_train_df.head()\n",
    "\n",
    "predict_porb_train_df = pd.DataFrame(lg_reg_model.predict_proba(X_train))\n"
   ]
  },
  {
   "cell_type": "markdown",
   "metadata": {},
   "source": [
    "### 2. The prediction on test data.\n",
    "\n",
    "The prediction can be carried out by **defining functions** as well. Below is one such instance wherein a function is defined and is used for prediction"
   ]
  },
  {
   "cell_type": "code",
   "execution_count": 33,
   "metadata": {
    "Rmd_chunk_options": "caretPrediction, echo=TRUE",
    "autoscroll": false
   },
   "outputs": [],
   "source": [
    "def get_predictions ( test_class, model, test_data ):\n",
    "    predicted_df = pd.DataFrame(model.predict_proba(test_data))\n",
    "    y_pred_df = pd.concat([test_class.reset_index(drop=True), predicted_df.iloc[:,1:]], axis =1)\n",
    "    return y_pred_df"
   ]
  },
  {
   "cell_type": "markdown",
   "metadata": {},
   "source": [
    "Giving label to the Y column of the test set by using the dictionary data type in python. This is being done for the model which was built using dummy variable coding. It will be used to generate confusion matrix at a later time"
   ]
  },
  {
   "cell_type": "code",
   "execution_count": 34,
   "metadata": {
    "scrolled": true
   },
   "outputs": [],
   "source": [
    "test_series = y_test\n",
    "train_series = y_train\n",
    "\n",
    "status_dict = {1:\"Joined\", 0:\"Not Joined\"}\n",
    "class_test_df = test_series.replace(dict(Joined=status_dict))\n",
    "class_test_df.rename({'Joined': 'status'}, axis='columns', inplace=True )\n",
    "\n",
    "class_train_df = train_series.replace(dict(Joined=status_dict))\n",
    "class_train_df.rename({'Joined': 'status'}, axis='columns', inplace=True )\n"
   ]
  },
  {
   "cell_type": "code",
   "execution_count": 35,
   "metadata": {
    "scrolled": true
   },
   "outputs": [
    {
     "data": {
      "text/html": [
       "<div>\n",
       "<style scoped>\n",
       "    .dataframe tbody tr th:only-of-type {\n",
       "        vertical-align: middle;\n",
       "    }\n",
       "\n",
       "    .dataframe tbody tr th {\n",
       "        vertical-align: top;\n",
       "    }\n",
       "\n",
       "    .dataframe thead th {\n",
       "        text-align: right;\n",
       "    }\n",
       "</style>\n",
       "<table border=\"1\" class=\"dataframe\">\n",
       "  <thead>\n",
       "    <tr style=\"text-align: right;\">\n",
       "      <th></th>\n",
       "      <th>status</th>\n",
       "      <th>predicted_prob</th>\n",
       "    </tr>\n",
       "  </thead>\n",
       "  <tbody>\n",
       "    <tr>\n",
       "      <th>0</th>\n",
       "      <td>Joined</td>\n",
       "      <td>0.949819</td>\n",
       "    </tr>\n",
       "    <tr>\n",
       "      <th>1</th>\n",
       "      <td>Joined</td>\n",
       "      <td>0.887205</td>\n",
       "    </tr>\n",
       "    <tr>\n",
       "      <th>2</th>\n",
       "      <td>Joined</td>\n",
       "      <td>0.906910</td>\n",
       "    </tr>\n",
       "    <tr>\n",
       "      <th>3</th>\n",
       "      <td>Joined</td>\n",
       "      <td>0.790269</td>\n",
       "    </tr>\n",
       "    <tr>\n",
       "      <th>4</th>\n",
       "      <td>Joined</td>\n",
       "      <td>0.918798</td>\n",
       "    </tr>\n",
       "  </tbody>\n",
       "</table>\n",
       "</div>"
      ],
      "text/plain": [
       "   status  predicted_prob\n",
       "0  Joined        0.949819\n",
       "1  Joined        0.887205\n",
       "2  Joined        0.906910\n",
       "3  Joined        0.790269\n",
       "4  Joined        0.918798"
      ]
     },
     "execution_count": 35,
     "metadata": {},
     "output_type": "execute_result"
    }
   ],
   "source": [
    "predict_test_df = pd.DataFrame(get_predictions(class_test_df.status, lg_reg_model, X_test))\n",
    "predict_test_df.rename(columns = {1:'predicted_prob'}, inplace=True)\n",
    "predict_test_df.head()"
   ]
  },
  {
   "cell_type": "code",
   "execution_count": 36,
   "metadata": {},
   "outputs": [
    {
     "data": {
      "text/html": [
       "<div>\n",
       "<style scoped>\n",
       "    .dataframe tbody tr th:only-of-type {\n",
       "        vertical-align: middle;\n",
       "    }\n",
       "\n",
       "    .dataframe tbody tr th {\n",
       "        vertical-align: top;\n",
       "    }\n",
       "\n",
       "    .dataframe thead th {\n",
       "        text-align: right;\n",
       "    }\n",
       "</style>\n",
       "<table border=\"1\" class=\"dataframe\">\n",
       "  <thead>\n",
       "    <tr style=\"text-align: right;\">\n",
       "      <th></th>\n",
       "      <th>status</th>\n",
       "      <th>predicted_prob</th>\n",
       "      <th>predicted</th>\n",
       "    </tr>\n",
       "  </thead>\n",
       "  <tbody>\n",
       "    <tr>\n",
       "      <th>0</th>\n",
       "      <td>Joined</td>\n",
       "      <td>0.949819</td>\n",
       "      <td>Joined</td>\n",
       "    </tr>\n",
       "    <tr>\n",
       "      <th>1</th>\n",
       "      <td>Joined</td>\n",
       "      <td>0.887205</td>\n",
       "      <td>Joined</td>\n",
       "    </tr>\n",
       "    <tr>\n",
       "      <th>2</th>\n",
       "      <td>Joined</td>\n",
       "      <td>0.906910</td>\n",
       "      <td>Joined</td>\n",
       "    </tr>\n",
       "    <tr>\n",
       "      <th>3</th>\n",
       "      <td>Joined</td>\n",
       "      <td>0.790269</td>\n",
       "      <td>Joined</td>\n",
       "    </tr>\n",
       "    <tr>\n",
       "      <th>4</th>\n",
       "      <td>Joined</td>\n",
       "      <td>0.918798</td>\n",
       "      <td>Joined</td>\n",
       "    </tr>\n",
       "    <tr>\n",
       "      <th>5</th>\n",
       "      <td>Joined</td>\n",
       "      <td>0.786012</td>\n",
       "      <td>Joined</td>\n",
       "    </tr>\n",
       "    <tr>\n",
       "      <th>6</th>\n",
       "      <td>Not Joined</td>\n",
       "      <td>0.801451</td>\n",
       "      <td>Joined</td>\n",
       "    </tr>\n",
       "    <tr>\n",
       "      <th>7</th>\n",
       "      <td>Not Joined</td>\n",
       "      <td>0.844142</td>\n",
       "      <td>Joined</td>\n",
       "    </tr>\n",
       "    <tr>\n",
       "      <th>8</th>\n",
       "      <td>Not Joined</td>\n",
       "      <td>0.934617</td>\n",
       "      <td>Joined</td>\n",
       "    </tr>\n",
       "    <tr>\n",
       "      <th>9</th>\n",
       "      <td>Joined</td>\n",
       "      <td>0.825417</td>\n",
       "      <td>Joined</td>\n",
       "    </tr>\n",
       "  </tbody>\n",
       "</table>\n",
       "</div>"
      ],
      "text/plain": [
       "       status  predicted_prob predicted\n",
       "0      Joined        0.949819    Joined\n",
       "1      Joined        0.887205    Joined\n",
       "2      Joined        0.906910    Joined\n",
       "3      Joined        0.790269    Joined\n",
       "4      Joined        0.918798    Joined\n",
       "5      Joined        0.786012    Joined\n",
       "6  Not Joined        0.801451    Joined\n",
       "7  Not Joined        0.844142    Joined\n",
       "8  Not Joined        0.934617    Joined\n",
       "9      Joined        0.825417    Joined"
      ]
     },
     "execution_count": 36,
     "metadata": {},
     "output_type": "execute_result"
    }
   ],
   "source": [
    "predict_test_df['predicted'] = predict_test_df.predicted_prob.map(lambda x: 'Joined' if x > 0.5 else 'Not Joined')\n",
    "predict_test_df[0:10]"
   ]
  },
  {
   "cell_type": "markdown",
   "metadata": {},
   "source": [
    "### 3. Confusion Matrix\n",
    "\n",
    "We will built classification matrix using the **metrics** method from **sklearn** package. We will also write a custom function to build a classification matrix and use it for reporting the performance measures.\n",
    "\n",
    "#### 3a. Confusion Matrix using sklearn"
   ]
  },
  {
   "cell_type": "code",
   "execution_count": 37,
   "metadata": {},
   "outputs": [],
   "source": [
    "from sklearn import metrics\n",
    "from sklearn.metrics import confusion_matrix\n",
    "from sklearn.metrics import classification_report"
   ]
  },
  {
   "cell_type": "code",
   "execution_count": 38,
   "metadata": {
    "scrolled": true
   },
   "outputs": [
    {
     "name": "stdout",
     "output_type": "stream",
     "text": [
      "The model with dummy variable coding output: \n"
     ]
    },
    {
     "data": {
      "text/plain": [
       "array([[1448,   11],\n",
       "       [ 333,    7]])"
      ]
     },
     "execution_count": 38,
     "metadata": {},
     "output_type": "execute_result"
    },
    {
     "name": "stdout",
     "output_type": "stream",
     "text": [
      "              precision    recall  f1-score   support\n",
      "\n",
      "      Joined       0.81      0.99      0.89      1459\n",
      "  Not Joined       0.39      0.02      0.04       340\n",
      "\n",
      "    accuracy                           0.81      1799\n",
      "   macro avg       0.60      0.51      0.47      1799\n",
      "weighted avg       0.73      0.81      0.73      1799\n",
      "\n"
     ]
    }
   ],
   "source": [
    "print(\"The model with dummy variable coding output: \")\n",
    "confusion_matrix(class_test_df.status, predict_test_df.predicted)\n",
    "lg_reg_report = (classification_report(class_test_df, predict_test_df.predicted))\n",
    "print(lg_reg_report)\n"
   ]
  },
  {
   "cell_type": "markdown",
   "metadata": {},
   "source": [
    "#### 3b Confusion Matrix using generic function"
   ]
  },
  {
   "cell_type": "code",
   "execution_count": 39,
   "metadata": {},
   "outputs": [],
   "source": [
    "def draw_cm( actual, predicted ):\n",
    "    plt.figure(figsize=(9,9))\n",
    "    cm = metrics.confusion_matrix( actual, predicted )\n",
    "    sn.heatmap(cm, annot=True,  fmt='.0f', xticklabels = [\"Joined\", \"Not Joined\"] , \n",
    "               yticklabels = [\"Joined\", \"Not Joined\"],cmap = 'Blues_r')\n",
    "    plt.ylabel('Actual')\n",
    "    plt.xlabel('Predicted')\n",
    "    plt.title('Classification Matrix Plot', size = 15);\n",
    "    plt.show()"
   ]
  },
  {
   "cell_type": "markdown",
   "metadata": {},
   "source": [
    "The classification matrix plot as reported with dummy variable coding is:"
   ]
  },
  {
   "cell_type": "code",
   "execution_count": 40,
   "metadata": {},
   "outputs": [
    {
     "data": {
      "image/png": "[encoded data removed]",
      "text/plain": [
       "<Figure size 648x648 with 2 Axes>"
      ]
     },
     "metadata": {
      "needs_background": "light"
     },
     "output_type": "display_data"
    }
   ],
   "source": [
    "draw_cm( predict_test_df.status, predict_test_df.predicted )"
   ]
  },
  {
   "cell_type": "markdown",
   "metadata": {},
   "source": [
    "### 4. Performance Measure on the test set\n"
   ]
  },
  {
   "cell_type": "code",
   "execution_count": 41,
   "metadata": {},
   "outputs": [],
   "source": [
    "def measure_performance (clasf_matrix):\n",
    "    measure = pd.DataFrame({\n",
    "                        'sensitivity': [round(clasf_matrix[0,0]/(clasf_matrix[0,0]+clasf_matrix[0,1]),2)], \n",
    "                        'specificity': [round(clasf_matrix[1,1]/(clasf_matrix[1,0]+clasf_matrix[1,1]),2)],\n",
    "                        'recall': [round(clasf_matrix[0,0]/(clasf_matrix[0,0]+clasf_matrix[0,1]),2)],\n",
    "                        'precision': [round(clasf_matrix[0,0]/(clasf_matrix[0,0]+clasf_matrix[1,0]),2)],\n",
    "                        'overall_acc': [round((clasf_matrix[0,0]+clasf_matrix[1,1])/\n",
    "                                              (clasf_matrix[0,0]+clasf_matrix[0,1]+clasf_matrix[1,0]+clasf_matrix[1,1]),2)]\n",
    "                       })\n",
    "    return measure"
   ]
  },
  {
   "cell_type": "code",
   "execution_count": 42,
   "metadata": {},
   "outputs": [
    {
     "data": {
      "text/html": [
       "<div>\n",
       "<style scoped>\n",
       "    .dataframe tbody tr th:only-of-type {\n",
       "        vertical-align: middle;\n",
       "    }\n",
       "\n",
       "    .dataframe tbody tr th {\n",
       "        vertical-align: top;\n",
       "    }\n",
       "\n",
       "    .dataframe thead th {\n",
       "        text-align: right;\n",
       "    }\n",
       "</style>\n",
       "<table border=\"1\" class=\"dataframe\">\n",
       "  <thead>\n",
       "    <tr style=\"text-align: right;\">\n",
       "      <th></th>\n",
       "      <th>sensitivity</th>\n",
       "      <th>specificity</th>\n",
       "      <th>recall</th>\n",
       "      <th>precision</th>\n",
       "      <th>overall_acc</th>\n",
       "    </tr>\n",
       "  </thead>\n",
       "  <tbody>\n",
       "    <tr>\n",
       "      <th>0</th>\n",
       "      <td>0.99</td>\n",
       "      <td>0.02</td>\n",
       "      <td>0.99</td>\n",
       "      <td>0.81</td>\n",
       "      <td>0.81</td>\n",
       "    </tr>\n",
       "  </tbody>\n",
       "</table>\n",
       "</div>"
      ],
      "text/plain": [
       "   sensitivity  specificity  recall  precision  overall_acc\n",
       "0         0.99         0.02    0.99       0.81         0.81"
      ]
     },
     "execution_count": 42,
     "metadata": {},
     "output_type": "execute_result"
    },
    {
     "name": "stdout",
     "output_type": "stream",
     "text": [
      "Total Accuracy sklearn:  0.81\n"
     ]
    }
   ],
   "source": [
    "cm = metrics.confusion_matrix(predict_test_df.status, predict_test_df.predicted)\n",
    "\n",
    "lg_reg_metrics_df = pd.DataFrame(measure_performance(cm))\n",
    "lg_reg_metrics_df\n",
    "\n",
    "print( 'Total Accuracy sklearn: ',np.round( metrics.accuracy_score( class_test_df.status, predict_test_df.predicted ), 2 ))\n",
    "\n"
   ]
  },
  {
   "cell_type": "markdown",
   "metadata": {},
   "source": [
    "\n",
    "### 5. The optimal cut-off\n",
    "\n",
    "We are going to use model with dummy variable coding to select the optimal cut-off. \n"
   ]
  },
  {
   "cell_type": "markdown",
   "metadata": {},
   "source": [
    "\n",
    "#### Select the optimal cut-off value, if:\n",
    "\n",
    "> 1. Cost of Mis-classifying Not Joined as Joined is twice as costly as cost of micalssifying Joined as Not Joined\n",
    "2. Both sensitivity and specificity are equally important\n",
    "\n",
    "The best cut-off is the one which minimizes the misclassification cost (in case of **_option 1_**) or which maximizes the Youden's Index (in case of **_Option 2_**)."
   ]
  },
  {
   "cell_type": "code",
   "execution_count": 43,
   "metadata": {
    "Rmd_chunk_options": "modelOptimalCutOff, echo=FALSE,tidy=TRUE",
    "autoscroll": false
   },
   "outputs": [
    {
     "name": "stdout",
     "output_type": "stream",
     "text": [
      "            Joined  Not Joined\n",
      "Joined           0           0\n",
      "Not Joined       0           0\n"
     ]
    }
   ],
   "source": [
    "lg_pred_prob = pd.DataFrame(lg_reg_model.predict_proba(X_train))\n",
    "n = len(X_train)\n",
    "\n",
    "#Pass the correct code in dictionary below.\n",
    "\n",
    "d = {\"Joined\":(0,0), \"Not Joined\": (0,0)}\n",
    "\n",
    "costs = pd.DataFrame(d, index = ('Joined', 'Not Joined'))\n",
    "\n",
    "print(costs)"
   ]
  },
  {
   "cell_type": "code",
   "execution_count": 44,
   "metadata": {},
   "outputs": [],
   "source": [
    "lg_pred_prob.rename(columns = {1: 'predicted'}, inplace=True)"
   ]
  },
  {
   "cell_type": "markdown",
   "metadata": {},
   "source": [
    "Defining loop function to loop through float values"
   ]
  },
  {
   "cell_type": "code",
   "execution_count": 45,
   "metadata": {},
   "outputs": [],
   "source": [
    "def frange(start, stop, step):\n",
    "     s = start\n",
    "     while s < stop:\n",
    "         yield s\n",
    "         s += step"
   ]
  },
  {
   "cell_type": "code",
   "execution_count": 46,
   "metadata": {
    "Rmd_chunk_options": "costCal, echo=TRUE, tidy=TRUE",
    "autoscroll": false
   },
   "outputs": [],
   "source": [
    "#creating empty vectors to store the results.\n",
    "cutoff = []\n",
    "P11 = [] #correct classification of positive as positive\n",
    "P00 = [] #correct classification of negative as negative\n",
    "P10 = [] #misclassification of positive class to negative class\n",
    "P01 = [] #misclassification of negative class to positive class\n",
    "\n",
    "\n",
    "for i in frange(0.00, 1, 0.05):\n",
    "    predicted_y = lg_pred_prob.predicted.map(lambda x: 'Joined' if x > i else 'Not Joined')\n",
    "    tbl = metrics.confusion_matrix(class_train_df.status, predicted_y)\n",
    "    if ( i <= 1):\n",
    "        j = int(20*i)        \n",
    "        P01.append(tbl[1,0]/(tbl[1,0] + tbl[1,1]))\n",
    "        P00.append(tbl[1,1]/(tbl[1,0] + tbl[1,1]))\n",
    "        P10.append(tbl[0,1]/(tbl[0,0] + tbl[0,1]))\n",
    "        P11.append(tbl[0,0]/(tbl[0,0] + tbl[0,1]))\n",
    "        cutoff.append(i)\n",
    "\n",
    "d = {'cutoff':cutoff,'P10':P10,'P01': P01,'P00': P00,'P11':P11}\n",
    "df_cost_table = pd.DataFrame(d, columns=['cutoff','P00','P01','P10','P11'])"
   ]
  },
  {
   "cell_type": "code",
   "execution_count": 47,
   "metadata": {},
   "outputs": [
    {
     "data": {
      "text/html": [
       "<div>\n",
       "<style scoped>\n",
       "    .dataframe tbody tr th:only-of-type {\n",
       "        vertical-align: middle;\n",
       "    }\n",
       "\n",
       "    .dataframe tbody tr th {\n",
       "        vertical-align: top;\n",
       "    }\n",
       "\n",
       "    .dataframe thead th {\n",
       "        text-align: right;\n",
       "    }\n",
       "</style>\n",
       "<table border=\"1\" class=\"dataframe\">\n",
       "  <thead>\n",
       "    <tr style=\"text-align: right;\">\n",
       "      <th></th>\n",
       "      <th>cutoff</th>\n",
       "      <th>P00</th>\n",
       "      <th>P01</th>\n",
       "      <th>P10</th>\n",
       "      <th>P11</th>\n",
       "    </tr>\n",
       "  </thead>\n",
       "  <tbody>\n",
       "    <tr>\n",
       "      <th>0</th>\n",
       "      <td>0.00</td>\n",
       "      <td>1.000000</td>\n",
       "      <td>0.000000</td>\n",
       "      <td>1.000000</td>\n",
       "      <td>0.000000</td>\n",
       "    </tr>\n",
       "    <tr>\n",
       "      <th>1</th>\n",
       "      <td>0.05</td>\n",
       "      <td>1.000000</td>\n",
       "      <td>0.000000</td>\n",
       "      <td>1.000000</td>\n",
       "      <td>0.000000</td>\n",
       "    </tr>\n",
       "    <tr>\n",
       "      <th>2</th>\n",
       "      <td>0.10</td>\n",
       "      <td>1.000000</td>\n",
       "      <td>0.000000</td>\n",
       "      <td>1.000000</td>\n",
       "      <td>0.000000</td>\n",
       "    </tr>\n",
       "    <tr>\n",
       "      <th>3</th>\n",
       "      <td>0.15</td>\n",
       "      <td>1.000000</td>\n",
       "      <td>0.000000</td>\n",
       "      <td>1.000000</td>\n",
       "      <td>0.000000</td>\n",
       "    </tr>\n",
       "    <tr>\n",
       "      <th>4</th>\n",
       "      <td>0.20</td>\n",
       "      <td>1.000000</td>\n",
       "      <td>0.000000</td>\n",
       "      <td>1.000000</td>\n",
       "      <td>0.000000</td>\n",
       "    </tr>\n",
       "    <tr>\n",
       "      <th>5</th>\n",
       "      <td>0.25</td>\n",
       "      <td>1.000000</td>\n",
       "      <td>0.000000</td>\n",
       "      <td>1.000000</td>\n",
       "      <td>0.000000</td>\n",
       "    </tr>\n",
       "    <tr>\n",
       "      <th>6</th>\n",
       "      <td>0.30</td>\n",
       "      <td>1.000000</td>\n",
       "      <td>0.000000</td>\n",
       "      <td>1.000000</td>\n",
       "      <td>0.000000</td>\n",
       "    </tr>\n",
       "    <tr>\n",
       "      <th>7</th>\n",
       "      <td>0.35</td>\n",
       "      <td>1.000000</td>\n",
       "      <td>0.000000</td>\n",
       "      <td>1.000000</td>\n",
       "      <td>0.000000</td>\n",
       "    </tr>\n",
       "    <tr>\n",
       "      <th>8</th>\n",
       "      <td>0.40</td>\n",
       "      <td>0.999488</td>\n",
       "      <td>0.000512</td>\n",
       "      <td>0.996274</td>\n",
       "      <td>0.003726</td>\n",
       "    </tr>\n",
       "    <tr>\n",
       "      <th>9</th>\n",
       "      <td>0.45</td>\n",
       "      <td>0.996754</td>\n",
       "      <td>0.003246</td>\n",
       "      <td>0.984352</td>\n",
       "      <td>0.015648</td>\n",
       "    </tr>\n",
       "    <tr>\n",
       "      <th>10</th>\n",
       "      <td>0.50</td>\n",
       "      <td>0.992825</td>\n",
       "      <td>0.007175</td>\n",
       "      <td>0.958271</td>\n",
       "      <td>0.041729</td>\n",
       "    </tr>\n",
       "    <tr>\n",
       "      <th>11</th>\n",
       "      <td>0.55</td>\n",
       "      <td>0.984455</td>\n",
       "      <td>0.015545</td>\n",
       "      <td>0.923249</td>\n",
       "      <td>0.076751</td>\n",
       "    </tr>\n",
       "    <tr>\n",
       "      <th>12</th>\n",
       "      <td>0.60</td>\n",
       "      <td>0.970789</td>\n",
       "      <td>0.029211</td>\n",
       "      <td>0.884501</td>\n",
       "      <td>0.115499</td>\n",
       "    </tr>\n",
       "    <tr>\n",
       "      <th>13</th>\n",
       "      <td>0.65</td>\n",
       "      <td>0.947557</td>\n",
       "      <td>0.052443</td>\n",
       "      <td>0.818927</td>\n",
       "      <td>0.181073</td>\n",
       "    </tr>\n",
       "    <tr>\n",
       "      <th>14</th>\n",
       "      <td>0.70</td>\n",
       "      <td>0.904339</td>\n",
       "      <td>0.095661</td>\n",
       "      <td>0.727273</td>\n",
       "      <td>0.272727</td>\n",
       "    </tr>\n",
       "    <tr>\n",
       "      <th>15</th>\n",
       "      <td>0.75</td>\n",
       "      <td>0.828152</td>\n",
       "      <td>0.171848</td>\n",
       "      <td>0.589419</td>\n",
       "      <td>0.410581</td>\n",
       "    </tr>\n",
       "    <tr>\n",
       "      <th>16</th>\n",
       "      <td>0.80</td>\n",
       "      <td>0.675777</td>\n",
       "      <td>0.324223</td>\n",
       "      <td>0.414307</td>\n",
       "      <td>0.585693</td>\n",
       "    </tr>\n",
       "    <tr>\n",
       "      <th>17</th>\n",
       "      <td>0.85</td>\n",
       "      <td>0.466006</td>\n",
       "      <td>0.533994</td>\n",
       "      <td>0.213115</td>\n",
       "      <td>0.786885</td>\n",
       "    </tr>\n",
       "    <tr>\n",
       "      <th>18</th>\n",
       "      <td>0.90</td>\n",
       "      <td>0.238811</td>\n",
       "      <td>0.761189</td>\n",
       "      <td>0.078987</td>\n",
       "      <td>0.921013</td>\n",
       "    </tr>\n",
       "    <tr>\n",
       "      <th>19</th>\n",
       "      <td>0.95</td>\n",
       "      <td>0.036556</td>\n",
       "      <td>0.963444</td>\n",
       "      <td>0.009687</td>\n",
       "      <td>0.990313</td>\n",
       "    </tr>\n",
       "  </tbody>\n",
       "</table>\n",
       "</div>"
      ],
      "text/plain": [
       "    cutoff       P00       P01       P10       P11\n",
       "0     0.00  1.000000  0.000000  1.000000  0.000000\n",
       "1     0.05  1.000000  0.000000  1.000000  0.000000\n",
       "2     0.10  1.000000  0.000000  1.000000  0.000000\n",
       "3     0.15  1.000000  0.000000  1.000000  0.000000\n",
       "4     0.20  1.000000  0.000000  1.000000  0.000000\n",
       "5     0.25  1.000000  0.000000  1.000000  0.000000\n",
       "6     0.30  1.000000  0.000000  1.000000  0.000000\n",
       "7     0.35  1.000000  0.000000  1.000000  0.000000\n",
       "8     0.40  0.999488  0.000512  0.996274  0.003726\n",
       "9     0.45  0.996754  0.003246  0.984352  0.015648\n",
       "10    0.50  0.992825  0.007175  0.958271  0.041729\n",
       "11    0.55  0.984455  0.015545  0.923249  0.076751\n",
       "12    0.60  0.970789  0.029211  0.884501  0.115499\n",
       "13    0.65  0.947557  0.052443  0.818927  0.181073\n",
       "14    0.70  0.904339  0.095661  0.727273  0.272727\n",
       "15    0.75  0.828152  0.171848  0.589419  0.410581\n",
       "16    0.80  0.675777  0.324223  0.414307  0.585693\n",
       "17    0.85  0.466006  0.533994  0.213115  0.786885\n",
       "18    0.90  0.238811  0.761189  0.078987  0.921013\n",
       "19    0.95  0.036556  0.963444  0.009687  0.990313"
      ]
     },
     "execution_count": 47,
     "metadata": {},
     "output_type": "execute_result"
    }
   ],
   "source": [
    "df_cost_table"
   ]
  },
  {
   "cell_type": "markdown",
   "metadata": {},
   "source": [
    "\n",
    "The table summarizing the optimal cut-off value:\n",
    "\n",
    "_write the cost.table into a csv file_\n"
   ]
  },
  {
   "cell_type": "code",
   "execution_count": 48,
   "metadata": {
    "Rmd_chunk_options": "modelOptimalCutoffTable, echo=FALSE",
    "autoscroll": false
   },
   "outputs": [
    {
     "ename": "SyntaxError",
     "evalue": "invalid syntax (<ipython-input-48-bdad77ce2cab>, line 1)",
     "output_type": "error",
     "traceback": [
      "\u001b[0;36m  File \u001b[0;32m\"<ipython-input-48-bdad77ce2cab>\"\u001b[0;36m, line \u001b[0;32m1\u001b[0m\n\u001b[0;31m    df_cost_table['msclaf_cost'] = #write the formula for misclassification cost\u001b[0m\n\u001b[0m                                                                                ^\u001b[0m\n\u001b[0;31mSyntaxError\u001b[0m\u001b[0;31m:\u001b[0m invalid syntax\n"
     ]
    }
   ],
   "source": [
    "df_cost_table['msclaf_cost'] = #write the formula for misclassification cost\n",
    "df_cost_table['youden_index'] = df_cost_table.P00+df_cost_table.P11 -1\n",
    "df_cost_table"
   ]
  },
  {
   "cell_type": "markdown",
   "metadata": {},
   "source": [
    "\n",
    "### 5. Confusion Matrix using Optimal Cut-off\n",
    "\n",
    "The probability value along with the optimal cut-off can be used to build confusion matrix. We will use the **draw_cm** and **performance_measure** functions defined previously to report the performance of the model."
   ]
  },
  {
   "cell_type": "code",
   "execution_count": null,
   "metadata": {
    "Rmd_chunk_options": "modelValidation, echo=FALSE,tidy=TRUE",
    "autoscroll": false,
    "scrolled": true
   },
   "outputs": [],
   "source": [
    "predict_test_df['predicted'] = predict_test_df.predicted_prob.map(lambda x: 'Joined' if x > 0.9 else 'Not Joined') \n",
    "predict_test_df[0:10]"
   ]
  },
  {
   "cell_type": "code",
   "execution_count": null,
   "metadata": {},
   "outputs": [],
   "source": [
    "draw_cm( predict_test_df.status, predict_test_df.predicted )"
   ]
  },
  {
   "cell_type": "code",
   "execution_count": null,
   "metadata": {},
   "outputs": [],
   "source": [
    "cm = metrics.confusion_matrix(predict_test_df.status, predict_test_df.predicted)\n",
    "\n",
    "pd.DataFrame(measure_performance(cm))"
   ]
  },
  {
   "cell_type": "markdown",
   "metadata": {},
   "source": [
    "\n",
    "#### End of Document\n",
    "\n",
    "***\n",
    "***\n"
   ]
  }
 ],
 "metadata": {
  "Rmd_header": {
   "author": "Kumar Rahul",
   "date": "9 September 2016",
   "output": "word_document",
   "title": "Logistic Regression using Caret Package"
  },
  "kernelspec": {
   "display_name": "Python 3",
   "language": "python",
   "name": "python3"
  },
  "language_info": {
   "codemirror_mode": {
    "name": "ipython",
    "version": 3
   },
   "file_extension": ".py",
   "mimetype": "text/x-python",
   "name": "python",
   "nbconvert_exporter": "python",
   "pygments_lexer": "ipython3",
   "version": "3.6.8"
  }
 },
 "nbformat": 4,
 "nbformat_minor": 1
}
